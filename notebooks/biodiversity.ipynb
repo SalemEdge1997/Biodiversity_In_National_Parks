{
 "cells": [
  {
   "cell_type": "markdown",
   "metadata": {},
   "source": [
    "# Introduction\n",
    "\n",
    "The goal of this project is to analyse biodiversity data from the National Parks Service, particularly around various species observed in national parks.\n",
    "\n",
    "This project will scope, analyze, prepare, plot data, and seek to explain the findings from the analysis.\n",
    "\n",
    "Here are some of the questions that this project has sought to answer:\n",
    "\n",
    "- What is the distribution of conservation status for species?\n",
    "- Are certain types of species more likely to be endangered?\n",
    "- Are the differences between species and their conservation status significant?\n",
    "- Which animal is most prevalent and what is their distribution amongst parks?\n",
    "\n",
    "**Data sources:**\n",
    "\n",
    "Both `Observations.csv` and `Species_info.csv` was provided by [Codecademy.com](https://www.codecademy.com).\n",
    "\n",
    "Note: The data for this project is *inspired* by real data, but is mostly fictional."
   ]
  },
  {
   "cell_type": "markdown",
   "metadata": {},
   "source": [
    "## Scoping\n",
    "\n",
    "It is good practice to start any new project by creating a project scope. The sections below will outline and help guide the projects process and progress. \n",
    "\n",
    "### Project Goals\n",
    "\n",
    "The best place to start the projects scope is with the projects goals. This projects perspective will be through a biodiversity analyst for the National Parks Service (abbreviated to NPS going foward). The NPS wants to ensure the survival of endangered and at-risk species in order to maintain the level of biodeiversity within their parks. Therefore, the main objectives of an analyst will be understanding characterists of the species within the parks and their conservation status, also those species relationship to the national parks.\n",
    "\n",
    "- What is the distribution of conservation status for species?\n",
    "- Are certain types of species more likely to be endangered?\n",
    "- Are the differences between species and their conservation status significant?\n",
    "- Which animal is most prevalent and what is their distribution amongst parks? \n",
    "\n",
    "### Data\n",
    "\n",
    "This project has two data sets that came with the package. The first `csv` file has information about each species and another has observations of species with park locations. This data will be used to analyze the goals of the project. \n",
    "\n",
    "### Analysis\n",
    "\n",
    "This section is where the decriptive statistics and data visualisation techniques are emplyed to better understand the data. Tools such as statistical inference will also be used to test if the observed values are statistically significant. Some of the key metrics to be computed include:\n",
    "\n",
    "1. Distributions\n",
    "1. counts\n",
    "1. relationship between species\n",
    "1. conservation status of species\n",
    "1. observations of species in parks. \n",
    "\n",
    "### Evaluation\n",
    "\n",
    "Lastly, it's a good idea to revisit the goals and check if the output of the analysis corresponds to the questions first set to be answered (in the goals section). This section will also reflect on what has been learned through the process, and if any of the questions were unable to be answered. This could also include limitations or if any of the analysis could have been done using different methodologies.\n"
   ]
  },
  {
   "cell_type": "markdown",
   "metadata": {},
   "source": [
    "## Import Python Modules\n",
    "\n",
    "First start by importing the primary modules to be used throughout the project. "
   ]
  },
  {
   "cell_type": "code",
   "execution_count": 1,
   "metadata": {},
   "outputs": [],
   "source": [
    "import pandas as pd\n",
    "import numpy as np\n",
    "\n",
    "from matplotlib import pyplot as plt\n",
    "import seaborn as sns"
   ]
  },
  {
   "cell_type": "markdown",
   "metadata": {},
   "source": [
    "## Loading The Data\n",
    "\n",
    "In order to start analysing the data from the csv files it must first be converted into a format the is accessible and has the ability to be explored and visualised within Python. \n",
    "\n",
    "The next few steps loads in `observations.csv` and `species_info.csv` as `DataFrames` called `observations` and `species` respectively. The newly created `DataFrames` are then glimpsed with the `.head()` function for a quick check of their contents."
   ]
  },
  {
   "cell_type": "markdown",
   "metadata": {},
   "source": [
    "#### Observations\n",
    "\n",
    "The `Observations.csv` contains information from recorded sightings of different species throughout the national parks in the past 7 days. The columns included are:\n",
    "\n",
    "- **scientific_name** - The scientific name of each species\n",
    "- **park_name** - The name of the national park\n",
    "- **observations** - The number of observations in the past 7 days"
   ]
  },
  {
   "cell_type": "code",
   "execution_count": 2,
   "metadata": {},
   "outputs": [
    {
     "data": {
      "application/vnd.microsoft.datawrangler.viewer.v0+json": {
       "columns": [
        {
         "name": "index",
         "rawType": "int64",
         "type": "integer"
        },
        {
         "name": "scientific_name",
         "rawType": "object",
         "type": "string"
        },
        {
         "name": "park_name",
         "rawType": "object",
         "type": "string"
        },
        {
         "name": "observations",
         "rawType": "int64",
         "type": "integer"
        }
       ],
       "ref": "116a12c7-eb1b-4f61-b827-0b7ba7d69993",
       "rows": [
        [
         "0",
         "Vicia benghalensis",
         "Great Smoky Mountains National Park",
         "68"
        ],
        [
         "1",
         "Neovison vison",
         "Great Smoky Mountains National Park",
         "77"
        ],
        [
         "2",
         "Prunus subcordata",
         "Yosemite National Park",
         "138"
        ],
        [
         "3",
         "Abutilon theophrasti",
         "Bryce National Park",
         "84"
        ],
        [
         "4",
         "Githopsis specularioides",
         "Great Smoky Mountains National Park",
         "85"
        ]
       ],
       "shape": {
        "columns": 3,
        "rows": 5
       }
      },
      "text/html": [
       "<div>\n",
       "<style scoped>\n",
       "    .dataframe tbody tr th:only-of-type {\n",
       "        vertical-align: middle;\n",
       "    }\n",
       "\n",
       "    .dataframe tbody tr th {\n",
       "        vertical-align: top;\n",
       "    }\n",
       "\n",
       "    .dataframe thead th {\n",
       "        text-align: right;\n",
       "    }\n",
       "</style>\n",
       "<table border=\"1\" class=\"dataframe\">\n",
       "  <thead>\n",
       "    <tr style=\"text-align: right;\">\n",
       "      <th></th>\n",
       "      <th>scientific_name</th>\n",
       "      <th>park_name</th>\n",
       "      <th>observations</th>\n",
       "    </tr>\n",
       "  </thead>\n",
       "  <tbody>\n",
       "    <tr>\n",
       "      <th>0</th>\n",
       "      <td>Vicia benghalensis</td>\n",
       "      <td>Great Smoky Mountains National Park</td>\n",
       "      <td>68</td>\n",
       "    </tr>\n",
       "    <tr>\n",
       "      <th>1</th>\n",
       "      <td>Neovison vison</td>\n",
       "      <td>Great Smoky Mountains National Park</td>\n",
       "      <td>77</td>\n",
       "    </tr>\n",
       "    <tr>\n",
       "      <th>2</th>\n",
       "      <td>Prunus subcordata</td>\n",
       "      <td>Yosemite National Park</td>\n",
       "      <td>138</td>\n",
       "    </tr>\n",
       "    <tr>\n",
       "      <th>3</th>\n",
       "      <td>Abutilon theophrasti</td>\n",
       "      <td>Bryce National Park</td>\n",
       "      <td>84</td>\n",
       "    </tr>\n",
       "    <tr>\n",
       "      <th>4</th>\n",
       "      <td>Githopsis specularioides</td>\n",
       "      <td>Great Smoky Mountains National Park</td>\n",
       "      <td>85</td>\n",
       "    </tr>\n",
       "  </tbody>\n",
       "</table>\n",
       "</div>"
      ],
      "text/plain": [
       "            scientific_name                            park_name  observations\n",
       "0        Vicia benghalensis  Great Smoky Mountains National Park            68\n",
       "1            Neovison vison  Great Smoky Mountains National Park            77\n",
       "2         Prunus subcordata               Yosemite National Park           138\n",
       "3      Abutilon theophrasti                  Bryce National Park            84\n",
       "4  Githopsis specularioides  Great Smoky Mountains National Park            85"
      ]
     },
     "execution_count": 2,
     "metadata": {},
     "output_type": "execute_result"
    }
   ],
   "source": [
    "observations = pd.read_csv('../raw_data/observations.csv')\n",
    "observations.head()"
   ]
  },
  {
   "cell_type": "markdown",
   "metadata": {},
   "source": [
    "#### Species\n",
    "\n",
    "The `species_info.csv` contains information on the different species in the National Parks. The columns in the data set include:\n",
    "- **category** - The category of taxonomy for each species\n",
    "- **scientific_name** - The scientific name of each species\n",
    "- **common_names** - The common names of each species\n",
    "- **conservation_status** - The species conservation status\n"
   ]
  },
  {
   "cell_type": "code",
   "execution_count": 3,
   "metadata": {},
   "outputs": [
    {
     "data": {
      "application/vnd.microsoft.datawrangler.viewer.v0+json": {
       "columns": [
        {
         "name": "index",
         "rawType": "int64",
         "type": "integer"
        },
        {
         "name": "category",
         "rawType": "object",
         "type": "string"
        },
        {
         "name": "scientific_name",
         "rawType": "object",
         "type": "string"
        },
        {
         "name": "common_names",
         "rawType": "object",
         "type": "string"
        },
        {
         "name": "conservation_status",
         "rawType": "object",
         "type": "unknown"
        }
       ],
       "ref": "5162740f-5f17-4bd4-8b46-f1d52286a3d0",
       "rows": [
        [
         "0",
         "Mammal",
         "Clethrionomys gapperi gapperi",
         "Gapper's Red-Backed Vole",
         null
        ],
        [
         "1",
         "Mammal",
         "Bos bison",
         "American Bison, Bison",
         null
        ],
        [
         "2",
         "Mammal",
         "Bos taurus",
         "Aurochs, Aurochs, Domestic Cattle (Feral), Domesticated Cattle",
         null
        ],
        [
         "3",
         "Mammal",
         "Ovis aries",
         "Domestic Sheep, Mouflon, Red Sheep, Sheep (Feral)",
         null
        ],
        [
         "4",
         "Mammal",
         "Cervus elaphus",
         "Wapiti Or Elk",
         null
        ]
       ],
       "shape": {
        "columns": 4,
        "rows": 5
       }
      },
      "text/html": [
       "<div>\n",
       "<style scoped>\n",
       "    .dataframe tbody tr th:only-of-type {\n",
       "        vertical-align: middle;\n",
       "    }\n",
       "\n",
       "    .dataframe tbody tr th {\n",
       "        vertical-align: top;\n",
       "    }\n",
       "\n",
       "    .dataframe thead th {\n",
       "        text-align: right;\n",
       "    }\n",
       "</style>\n",
       "<table border=\"1\" class=\"dataframe\">\n",
       "  <thead>\n",
       "    <tr style=\"text-align: right;\">\n",
       "      <th></th>\n",
       "      <th>category</th>\n",
       "      <th>scientific_name</th>\n",
       "      <th>common_names</th>\n",
       "      <th>conservation_status</th>\n",
       "    </tr>\n",
       "  </thead>\n",
       "  <tbody>\n",
       "    <tr>\n",
       "      <th>0</th>\n",
       "      <td>Mammal</td>\n",
       "      <td>Clethrionomys gapperi gapperi</td>\n",
       "      <td>Gapper's Red-Backed Vole</td>\n",
       "      <td>NaN</td>\n",
       "    </tr>\n",
       "    <tr>\n",
       "      <th>1</th>\n",
       "      <td>Mammal</td>\n",
       "      <td>Bos bison</td>\n",
       "      <td>American Bison, Bison</td>\n",
       "      <td>NaN</td>\n",
       "    </tr>\n",
       "    <tr>\n",
       "      <th>2</th>\n",
       "      <td>Mammal</td>\n",
       "      <td>Bos taurus</td>\n",
       "      <td>Aurochs, Aurochs, Domestic Cattle (Feral), Dom...</td>\n",
       "      <td>NaN</td>\n",
       "    </tr>\n",
       "    <tr>\n",
       "      <th>3</th>\n",
       "      <td>Mammal</td>\n",
       "      <td>Ovis aries</td>\n",
       "      <td>Domestic Sheep, Mouflon, Red Sheep, Sheep (Feral)</td>\n",
       "      <td>NaN</td>\n",
       "    </tr>\n",
       "    <tr>\n",
       "      <th>4</th>\n",
       "      <td>Mammal</td>\n",
       "      <td>Cervus elaphus</td>\n",
       "      <td>Wapiti Or Elk</td>\n",
       "      <td>NaN</td>\n",
       "    </tr>\n",
       "  </tbody>\n",
       "</table>\n",
       "</div>"
      ],
      "text/plain": [
       "  category                scientific_name  \\\n",
       "0   Mammal  Clethrionomys gapperi gapperi   \n",
       "1   Mammal                      Bos bison   \n",
       "2   Mammal                     Bos taurus   \n",
       "3   Mammal                     Ovis aries   \n",
       "4   Mammal                 Cervus elaphus   \n",
       "\n",
       "                                        common_names conservation_status  \n",
       "0                           Gapper's Red-Backed Vole                 NaN  \n",
       "1                              American Bison, Bison                 NaN  \n",
       "2  Aurochs, Aurochs, Domestic Cattle (Feral), Dom...                 NaN  \n",
       "3  Domestic Sheep, Mouflon, Red Sheep, Sheep (Feral)                 NaN  \n",
       "4                                      Wapiti Or Elk                 NaN  "
      ]
     },
     "execution_count": 3,
     "metadata": {},
     "output_type": "execute_result"
    }
   ],
   "source": [
    "species = pd.read_csv('../raw_data/species_info.csv')\n",
    "species.head()"
   ]
  },
  {
   "cell_type": "markdown",
   "metadata": {},
   "source": [
    "#### Data Characteristics\n",
    "\n",
    "Next there will be a check of the dimensions of both datasets. `observations` has 23296 rows and 3 columns while `species` has 5824 rows and 4 columns.  "
   ]
  },
  {
   "cell_type": "code",
   "execution_count": 4,
   "metadata": {},
   "outputs": [
    {
     "name": "stdout",
     "output_type": "stream",
     "text": [
      "Observations Shape: (23296, 3)\n",
      "Species Shape: (5824, 4)\n"
     ]
    }
   ],
   "source": [
    "print(f'Observations Shape: {observations.shape}')\n",
    "print(f'Species Shape: {species.shape}')"
   ]
  },
  {
   "cell_type": "markdown",
   "metadata": {},
   "source": [
    "Then we will look at the number of `category` and the different decribed species. In total there  7 distinct categories 5 of which are animals and 2 are plants."
   ]
  },
  {
   "cell_type": "code",
   "execution_count": 5,
   "metadata": {},
   "outputs": [
    {
     "name": "stdout",
     "output_type": "stream",
     "text": [
      "Number of Categories: 7\n",
      "Categories: ['Mammal' 'Bird' 'Reptile' 'Amphibian' 'Fish' 'Vascular Plant'\n",
      " 'Nonvascular Plant']\n"
     ]
    }
   ],
   "source": [
    "print(f'Number of Categories: {species.category.nunique()}')\n",
    "print(f'Categories: {species.category.unique()}')"
   ]
  },
  {
   "cell_type": "markdown",
   "metadata": {},
   "source": [
    "Lets go one step deeper and look at the count for each of these categories and get a feel for the spread of species that has been recorded. As you can see `Vascular Plant` makes up the majority of species with over 4470 counts with `Reptile` having the fewest at 79."
   ]
  },
  {
   "cell_type": "code",
   "execution_count": 6,
   "metadata": {},
   "outputs": [
    {
     "data": {
      "application/vnd.microsoft.datawrangler.viewer.v0+json": {
       "columns": [
        {
         "name": "category",
         "rawType": "object",
         "type": "string"
        },
        {
         "name": "0",
         "rawType": "int64",
         "type": "integer"
        }
       ],
       "ref": "a27945b2-fe58-4a30-83ab-9fbae3d04a60",
       "rows": [
        [
         "Amphibian",
         "80"
        ],
        [
         "Bird",
         "521"
        ],
        [
         "Fish",
         "127"
        ],
        [
         "Mammal",
         "214"
        ],
        [
         "Nonvascular Plant",
         "333"
        ],
        [
         "Reptile",
         "79"
        ],
        [
         "Vascular Plant",
         "4470"
        ]
       ],
       "shape": {
        "columns": 1,
        "rows": 7
       }
      },
      "text/plain": [
       "category\n",
       "Amphibian              80\n",
       "Bird                  521\n",
       "Fish                  127\n",
       "Mammal                214\n",
       "Nonvascular Plant     333\n",
       "Reptile                79\n",
       "Vascular Plant       4470\n",
       "dtype: int64"
      ]
     },
     "execution_count": 6,
     "metadata": {},
     "output_type": "execute_result"
    }
   ],
   "source": [
    "species.groupby('category').size()"
   ]
  },
  {
   "cell_type": "markdown",
   "metadata": {},
   "source": [
    "Another column worth exploring is `conservation_status`. There are the categories `Species of Concern`, `Endangered`, `Threatened`, `In Recovery` and `NaN` values."
   ]
  },
  {
   "cell_type": "code",
   "execution_count": 7,
   "metadata": {},
   "outputs": [
    {
     "name": "stdout",
     "output_type": "stream",
     "text": [
      "Number of conservation statuses: 4\n",
      "Conservation Statuses: [nan 'Species of Concern' 'Endangered' 'Threatened' 'In Recovery']\n"
     ]
    }
   ],
   "source": [
    "print(f'Number of conservation statuses: {species.conservation_status.nunique()}')\n",
    "print(f'Conservation Statuses: {species.conservation_status.unique()}')"
   ]
  },
  {
   "cell_type": "markdown",
   "metadata": {},
   "source": [
    "Next is a count of the conservation statueses. There are 5633 NaN values meaning that there are that many species without a concern as far as conservation. There are also 16 endangered, 4 in recovery and 161 species of concern. \n",
    "\n",
    "#### Note\n",
    "\n",
    "While commonly having NaN values requires the data to be treated carefully, in this particular dataset it means that the species is nnot under any conservation status."
   ]
  },
  {
   "cell_type": "code",
   "execution_count": 8,
   "metadata": {},
   "outputs": [
    {
     "name": "stdout",
     "output_type": "stream",
     "text": [
      "Is NaN: 5633\n",
      "conservation_status\n",
      "Endangered             16\n",
      "In Recovery             4\n",
      "Species of Concern    161\n",
      "Threatened             10\n",
      "dtype: int64\n"
     ]
    }
   ],
   "source": [
    "print(f'Is NaN: {species.conservation_status.isna().sum()}')\n",
    "print(species.groupby('conservation_status').size())"
   ]
  },
  {
   "cell_type": "markdown",
   "metadata": {},
   "source": [
    "#### Observations\n",
    "\n",
    "The next section looks at `obseravtions`. Lets first look at the total number of parks and we can see there are 4 different parks. If we also look at how many observations are in the dataset we can see that there are 3,314,739 observations that have been made. Thats a lot of data to deal with!"
   ]
  },
  {
   "cell_type": "code",
   "execution_count": 9,
   "metadata": {},
   "outputs": [
    {
     "name": "stdout",
     "output_type": "stream",
     "text": [
      "Total Number of parks: 4\n",
      "['Great Smoky Mountains National Park' 'Yosemite National Park'\n",
      " 'Bryce National Park' 'Yellowstone National Park']\n"
     ]
    }
   ],
   "source": [
    "print(f'Total Number of parks: {observations.park_name.nunique()}')\n",
    "print(f'{observations.park_name.unique()}')"
   ]
  },
  {
   "cell_type": "code",
   "execution_count": 10,
   "metadata": {},
   "outputs": [
    {
     "name": "stdout",
     "output_type": "stream",
     "text": [
      "Total number of observations: 3314739\n"
     ]
    }
   ],
   "source": [
    "print(f'Total number of observations: {observations.observations.sum()}')"
   ]
  },
  {
   "cell_type": "markdown",
   "metadata": {},
   "source": [
    "## Analysis"
   ]
  },
  {
   "cell_type": "markdown",
   "metadata": {},
   "source": [
    "This section will begin analyzing the data after the initial exploration. First task will be to clean and explore the `conservation_status` column in `species`. \n",
    "\n",
    "The column `conservation_status` has several possible values:\n",
    "- `Species of Concern`: declining or appear to be in need of conservation\n",
    "- `Threatened`: vulnerable to endangerment in the near future\n",
    "- `Endangered`: seriously at risk of extinction\n",
    "- `In Recovery`: formerly `Endangered`, but currently neither in danger of extinction throughout all or a significant portion of its range\n",
    "\n",
    "In the exploration, a lot of `nan` values were detected. These values will need to be converted to `No Intervention`."
   ]
  },
  {
   "cell_type": "code",
   "execution_count": 11,
   "metadata": {},
   "outputs": [
    {
     "data": {
      "application/vnd.microsoft.datawrangler.viewer.v0+json": {
       "columns": [
        {
         "name": "conservation_status",
         "rawType": "object",
         "type": "string"
        },
        {
         "name": "category",
         "rawType": "int64",
         "type": "integer"
        },
        {
         "name": "scientific_name",
         "rawType": "int64",
         "type": "integer"
        },
        {
         "name": "common_names",
         "rawType": "int64",
         "type": "integer"
        }
       ],
       "ref": "03d00cc1-02bc-40cf-8a67-311790790ef6",
       "rows": [
        [
         "Endangered",
         "16",
         "16",
         "16"
        ],
        [
         "In Recovery",
         "4",
         "4",
         "4"
        ],
        [
         "No Intervention",
         "5633",
         "5633",
         "5633"
        ],
        [
         "Species of Concern",
         "161",
         "161",
         "161"
        ],
        [
         "Threatened",
         "10",
         "10",
         "10"
        ]
       ],
       "shape": {
        "columns": 3,
        "rows": 5
       }
      },
      "text/html": [
       "<div>\n",
       "<style scoped>\n",
       "    .dataframe tbody tr th:only-of-type {\n",
       "        vertical-align: middle;\n",
       "    }\n",
       "\n",
       "    .dataframe tbody tr th {\n",
       "        vertical-align: top;\n",
       "    }\n",
       "\n",
       "    .dataframe thead th {\n",
       "        text-align: right;\n",
       "    }\n",
       "</style>\n",
       "<table border=\"1\" class=\"dataframe\">\n",
       "  <thead>\n",
       "    <tr style=\"text-align: right;\">\n",
       "      <th></th>\n",
       "      <th>category</th>\n",
       "      <th>scientific_name</th>\n",
       "      <th>common_names</th>\n",
       "    </tr>\n",
       "    <tr>\n",
       "      <th>conservation_status</th>\n",
       "      <th></th>\n",
       "      <th></th>\n",
       "      <th></th>\n",
       "    </tr>\n",
       "  </thead>\n",
       "  <tbody>\n",
       "    <tr>\n",
       "      <th>Endangered</th>\n",
       "      <td>16</td>\n",
       "      <td>16</td>\n",
       "      <td>16</td>\n",
       "    </tr>\n",
       "    <tr>\n",
       "      <th>In Recovery</th>\n",
       "      <td>4</td>\n",
       "      <td>4</td>\n",
       "      <td>4</td>\n",
       "    </tr>\n",
       "    <tr>\n",
       "      <th>No Intervention</th>\n",
       "      <td>5633</td>\n",
       "      <td>5633</td>\n",
       "      <td>5633</td>\n",
       "    </tr>\n",
       "    <tr>\n",
       "      <th>Species of Concern</th>\n",
       "      <td>161</td>\n",
       "      <td>161</td>\n",
       "      <td>161</td>\n",
       "    </tr>\n",
       "    <tr>\n",
       "      <th>Threatened</th>\n",
       "      <td>10</td>\n",
       "      <td>10</td>\n",
       "      <td>10</td>\n",
       "    </tr>\n",
       "  </tbody>\n",
       "</table>\n",
       "</div>"
      ],
      "text/plain": [
       "                     category  scientific_name  common_names\n",
       "conservation_status                                         \n",
       "Endangered                 16               16            16\n",
       "In Recovery                 4                4             4\n",
       "No Intervention          5633             5633          5633\n",
       "Species of Concern        161              161           161\n",
       "Threatened                 10               10            10"
      ]
     },
     "execution_count": 11,
     "metadata": {},
     "output_type": "execute_result"
    }
   ],
   "source": [
    "species.fillna('No Intervention', inplace=True)\n",
    "species.groupby('conservation_status').count()"
   ]
  },
  {
   "cell_type": "markdown",
   "metadata": {},
   "source": [
    "Next we can look at the different categories that are nested within conversvation status. We can start to exclude those with `No Intervention` as they aren't the current focus of the analysis. Below is a chart and some graphs to illustrate this exploration.\n",
    "\n",
    "For those in the `Endangered` status, 7 were mammals and 4 were brids. In the `In Recovery` status, 3 were birds and 1 was mammal which could suggest that birds are recovering better than mammals."
   ]
  },
  {
   "cell_type": "code",
   "execution_count": 12,
   "metadata": {},
   "outputs": [
    {
     "data": {
      "application/vnd.microsoft.datawrangler.viewer.v0+json": {
       "columns": [
        {
         "name": "index",
         "rawType": "int64",
         "type": "integer"
        },
        {
         "name": "conservation_status",
         "rawType": "object",
         "type": "string"
        },
        {
         "name": "Amphibian",
         "rawType": "float64",
         "type": "float"
        },
        {
         "name": "Bird",
         "rawType": "float64",
         "type": "float"
        },
        {
         "name": "Fish",
         "rawType": "float64",
         "type": "float"
        },
        {
         "name": "Mammal",
         "rawType": "float64",
         "type": "float"
        },
        {
         "name": "Nonvascular Plant",
         "rawType": "float64",
         "type": "float"
        },
        {
         "name": "Reptile",
         "rawType": "float64",
         "type": "float"
        },
        {
         "name": "Vascular Plant",
         "rawType": "float64",
         "type": "float"
        }
       ],
       "ref": "9f164765-0ddb-4aaa-9532-de123a8f3fcc",
       "rows": [
        [
         "0",
         "Endangered",
         "1.0",
         "4.0",
         "3.0",
         "7.0",
         null,
         null,
         "1.0"
        ],
        [
         "1",
         "In Recovery",
         null,
         "3.0",
         null,
         "1.0",
         null,
         null,
         null
        ],
        [
         "2",
         "Species of Concern",
         "4.0",
         "72.0",
         "4.0",
         "28.0",
         "5.0",
         "5.0",
         "43.0"
        ],
        [
         "3",
         "Threatened",
         "2.0",
         null,
         "4.0",
         "2.0",
         null,
         null,
         "2.0"
        ]
       ],
       "shape": {
        "columns": 8,
        "rows": 4
       }
      },
      "text/html": [
       "<div>\n",
       "<style scoped>\n",
       "    .dataframe tbody tr th:only-of-type {\n",
       "        vertical-align: middle;\n",
       "    }\n",
       "\n",
       "    .dataframe tbody tr th {\n",
       "        vertical-align: top;\n",
       "    }\n",
       "\n",
       "    .dataframe thead th {\n",
       "        text-align: right;\n",
       "    }\n",
       "</style>\n",
       "<table border=\"1\" class=\"dataframe\">\n",
       "  <thead>\n",
       "    <tr style=\"text-align: right;\">\n",
       "      <th>category</th>\n",
       "      <th>conservation_status</th>\n",
       "      <th>Amphibian</th>\n",
       "      <th>Bird</th>\n",
       "      <th>Fish</th>\n",
       "      <th>Mammal</th>\n",
       "      <th>Nonvascular Plant</th>\n",
       "      <th>Reptile</th>\n",
       "      <th>Vascular Plant</th>\n",
       "    </tr>\n",
       "  </thead>\n",
       "  <tbody>\n",
       "    <tr>\n",
       "      <th>0</th>\n",
       "      <td>Endangered</td>\n",
       "      <td>1.0</td>\n",
       "      <td>4.0</td>\n",
       "      <td>3.0</td>\n",
       "      <td>7.0</td>\n",
       "      <td>NaN</td>\n",
       "      <td>NaN</td>\n",
       "      <td>1.0</td>\n",
       "    </tr>\n",
       "    <tr>\n",
       "      <th>1</th>\n",
       "      <td>In Recovery</td>\n",
       "      <td>NaN</td>\n",
       "      <td>3.0</td>\n",
       "      <td>NaN</td>\n",
       "      <td>1.0</td>\n",
       "      <td>NaN</td>\n",
       "      <td>NaN</td>\n",
       "      <td>NaN</td>\n",
       "    </tr>\n",
       "    <tr>\n",
       "      <th>2</th>\n",
       "      <td>Species of Concern</td>\n",
       "      <td>4.0</td>\n",
       "      <td>72.0</td>\n",
       "      <td>4.0</td>\n",
       "      <td>28.0</td>\n",
       "      <td>5.0</td>\n",
       "      <td>5.0</td>\n",
       "      <td>43.0</td>\n",
       "    </tr>\n",
       "    <tr>\n",
       "      <th>3</th>\n",
       "      <td>Threatened</td>\n",
       "      <td>2.0</td>\n",
       "      <td>NaN</td>\n",
       "      <td>4.0</td>\n",
       "      <td>2.0</td>\n",
       "      <td>NaN</td>\n",
       "      <td>NaN</td>\n",
       "      <td>2.0</td>\n",
       "    </tr>\n",
       "  </tbody>\n",
       "</table>\n",
       "</div>"
      ],
      "text/plain": [
       "category conservation_status  Amphibian  Bird  Fish  Mammal  \\\n",
       "0                 Endangered        1.0   4.0   3.0     7.0   \n",
       "1                In Recovery        NaN   3.0   NaN     1.0   \n",
       "2         Species of Concern        4.0  72.0   4.0    28.0   \n",
       "3                 Threatened        2.0   NaN   4.0     2.0   \n",
       "\n",
       "category  Nonvascular Plant  Reptile  Vascular Plant  \n",
       "0                       NaN      NaN             1.0  \n",
       "1                       NaN      NaN             NaN  \n",
       "2                       5.0      5.0            43.0  \n",
       "3                       NaN      NaN             2.0  "
      ]
     },
     "execution_count": 12,
     "metadata": {},
     "output_type": "execute_result"
    }
   ],
   "source": [
    "conservation_category = species[species.conservation_status != 'No Intervention']\\\n",
    "    .groupby(['conservation_status', 'category'])['scientific_name']\\\n",
    "        .count().unstack()\n",
    "conservation_category.reset_index()"
   ]
  },
  {
   "cell_type": "code",
   "execution_count": 13,
   "metadata": {},
   "outputs": [
    {
     "data": {
      "image/png": "[encoded data removed]",
      "text/plain": [
       "<Figure size 1000x600 with 1 Axes>"
      ]
     },
     "metadata": {},
     "output_type": "display_data"
    },
    {
     "data": {
      "text/plain": [
       "<Figure size 640x480 with 0 Axes>"
      ]
     },
     "metadata": {},
     "output_type": "display_data"
    }
   ],
   "source": [
    "# Reshape the DataFrame for seaborn\n",
    "conservation_category_reset = conservation_category.reset_index().melt(id_vars='conservation_status', var_name='category', value_name='count')\n",
    "\n",
    "plt.figure(figsize=(10,6))\n",
    "sns.set(style=\"whitegrid\")\n",
    "ax = sns.barplot(\n",
    "    data=conservation_category_reset,\n",
    "    x='conservation_status',\n",
    "    y='count',\n",
    "    hue='category'\n",
    ")\n",
    "plt.title('Conservation Status by Species Category')\n",
    "plt.ylabel('Number of Species')\n",
    "plt.xlabel('Conservation Status')\n",
    "plt.legend(title='Category')\n",
    "plt.tight_layout()\n",
    "plt.show()\n",
    "plt.clf()"
   ]
  },
  {
   "cell_type": "code",
   "execution_count": 14,
   "metadata": {},
   "outputs": [
    {
     "data": {
      "application/vnd.microsoft.datawrangler.viewer.v0+json": {
       "columns": [
        {
         "name": "index",
         "rawType": "int64",
         "type": "integer"
        },
        {
         "name": "conservation_status",
         "rawType": "object",
         "type": "string"
        },
        {
         "name": "category",
         "rawType": "object",
         "type": "string"
        },
        {
         "name": "count",
         "rawType": "float64",
         "type": "float"
        }
       ],
       "ref": "6c90b38e-415a-418e-8a3d-549893b1c489",
       "rows": [
        [
         "0",
         "Endangered",
         "Amphibian",
         "1.0"
        ],
        [
         "1",
         "In Recovery",
         "Amphibian",
         null
        ],
        [
         "2",
         "Species of Concern",
         "Amphibian",
         "4.0"
        ],
        [
         "3",
         "Threatened",
         "Amphibian",
         "2.0"
        ],
        [
         "4",
         "Endangered",
         "Bird",
         "4.0"
        ],
        [
         "5",
         "In Recovery",
         "Bird",
         "3.0"
        ],
        [
         "6",
         "Species of Concern",
         "Bird",
         "72.0"
        ],
        [
         "7",
         "Threatened",
         "Bird",
         null
        ],
        [
         "8",
         "Endangered",
         "Fish",
         "3.0"
        ],
        [
         "9",
         "In Recovery",
         "Fish",
         null
        ],
        [
         "10",
         "Species of Concern",
         "Fish",
         "4.0"
        ],
        [
         "11",
         "Threatened",
         "Fish",
         "4.0"
        ],
        [
         "12",
         "Endangered",
         "Mammal",
         "7.0"
        ],
        [
         "13",
         "In Recovery",
         "Mammal",
         "1.0"
        ],
        [
         "14",
         "Species of Concern",
         "Mammal",
         "28.0"
        ],
        [
         "15",
         "Threatened",
         "Mammal",
         "2.0"
        ],
        [
         "16",
         "Endangered",
         "Nonvascular Plant",
         null
        ],
        [
         "17",
         "In Recovery",
         "Nonvascular Plant",
         null
        ],
        [
         "18",
         "Species of Concern",
         "Nonvascular Plant",
         "5.0"
        ],
        [
         "19",
         "Threatened",
         "Nonvascular Plant",
         null
        ],
        [
         "20",
         "Endangered",
         "Reptile",
         null
        ],
        [
         "21",
         "In Recovery",
         "Reptile",
         null
        ],
        [
         "22",
         "Species of Concern",
         "Reptile",
         "5.0"
        ],
        [
         "23",
         "Threatened",
         "Reptile",
         null
        ],
        [
         "24",
         "Endangered",
         "Vascular Plant",
         "1.0"
        ],
        [
         "25",
         "In Recovery",
         "Vascular Plant",
         null
        ],
        [
         "26",
         "Species of Concern",
         "Vascular Plant",
         "43.0"
        ],
        [
         "27",
         "Threatened",
         "Vascular Plant",
         "2.0"
        ]
       ],
       "shape": {
        "columns": 3,
        "rows": 28
       }
      },
      "text/html": [
       "<div>\n",
       "<style scoped>\n",
       "    .dataframe tbody tr th:only-of-type {\n",
       "        vertical-align: middle;\n",
       "    }\n",
       "\n",
       "    .dataframe tbody tr th {\n",
       "        vertical-align: top;\n",
       "    }\n",
       "\n",
       "    .dataframe thead th {\n",
       "        text-align: right;\n",
       "    }\n",
       "</style>\n",
       "<table border=\"1\" class=\"dataframe\">\n",
       "  <thead>\n",
       "    <tr style=\"text-align: right;\">\n",
       "      <th></th>\n",
       "      <th>conservation_status</th>\n",
       "      <th>category</th>\n",
       "      <th>count</th>\n",
       "    </tr>\n",
       "  </thead>\n",
       "  <tbody>\n",
       "    <tr>\n",
       "      <th>0</th>\n",
       "      <td>Endangered</td>\n",
       "      <td>Amphibian</td>\n",
       "      <td>1.0</td>\n",
       "    </tr>\n",
       "    <tr>\n",
       "      <th>1</th>\n",
       "      <td>In Recovery</td>\n",
       "      <td>Amphibian</td>\n",
       "      <td>NaN</td>\n",
       "    </tr>\n",
       "    <tr>\n",
       "      <th>2</th>\n",
       "      <td>Species of Concern</td>\n",
       "      <td>Amphibian</td>\n",
       "      <td>4.0</td>\n",
       "    </tr>\n",
       "    <tr>\n",
       "      <th>3</th>\n",
       "      <td>Threatened</td>\n",
       "      <td>Amphibian</td>\n",
       "      <td>2.0</td>\n",
       "    </tr>\n",
       "    <tr>\n",
       "      <th>4</th>\n",
       "      <td>Endangered</td>\n",
       "      <td>Bird</td>\n",
       "      <td>4.0</td>\n",
       "    </tr>\n",
       "    <tr>\n",
       "      <th>5</th>\n",
       "      <td>In Recovery</td>\n",
       "      <td>Bird</td>\n",
       "      <td>3.0</td>\n",
       "    </tr>\n",
       "    <tr>\n",
       "      <th>6</th>\n",
       "      <td>Species of Concern</td>\n",
       "      <td>Bird</td>\n",
       "      <td>72.0</td>\n",
       "    </tr>\n",
       "    <tr>\n",
       "      <th>7</th>\n",
       "      <td>Threatened</td>\n",
       "      <td>Bird</td>\n",
       "      <td>NaN</td>\n",
       "    </tr>\n",
       "    <tr>\n",
       "      <th>8</th>\n",
       "      <td>Endangered</td>\n",
       "      <td>Fish</td>\n",
       "      <td>3.0</td>\n",
       "    </tr>\n",
       "    <tr>\n",
       "      <th>9</th>\n",
       "      <td>In Recovery</td>\n",
       "      <td>Fish</td>\n",
       "      <td>NaN</td>\n",
       "    </tr>\n",
       "    <tr>\n",
       "      <th>10</th>\n",
       "      <td>Species of Concern</td>\n",
       "      <td>Fish</td>\n",
       "      <td>4.0</td>\n",
       "    </tr>\n",
       "    <tr>\n",
       "      <th>11</th>\n",
       "      <td>Threatened</td>\n",
       "      <td>Fish</td>\n",
       "      <td>4.0</td>\n",
       "    </tr>\n",
       "    <tr>\n",
       "      <th>12</th>\n",
       "      <td>Endangered</td>\n",
       "      <td>Mammal</td>\n",
       "      <td>7.0</td>\n",
       "    </tr>\n",
       "    <tr>\n",
       "      <th>13</th>\n",
       "      <td>In Recovery</td>\n",
       "      <td>Mammal</td>\n",
       "      <td>1.0</td>\n",
       "    </tr>\n",
       "    <tr>\n",
       "      <th>14</th>\n",
       "      <td>Species of Concern</td>\n",
       "      <td>Mammal</td>\n",
       "      <td>28.0</td>\n",
       "    </tr>\n",
       "    <tr>\n",
       "      <th>15</th>\n",
       "      <td>Threatened</td>\n",
       "      <td>Mammal</td>\n",
       "      <td>2.0</td>\n",
       "    </tr>\n",
       "    <tr>\n",
       "      <th>16</th>\n",
       "      <td>Endangered</td>\n",
       "      <td>Nonvascular Plant</td>\n",
       "      <td>NaN</td>\n",
       "    </tr>\n",
       "    <tr>\n",
       "      <th>17</th>\n",
       "      <td>In Recovery</td>\n",
       "      <td>Nonvascular Plant</td>\n",
       "      <td>NaN</td>\n",
       "    </tr>\n",
       "    <tr>\n",
       "      <th>18</th>\n",
       "      <td>Species of Concern</td>\n",
       "      <td>Nonvascular Plant</td>\n",
       "      <td>5.0</td>\n",
       "    </tr>\n",
       "    <tr>\n",
       "      <th>19</th>\n",
       "      <td>Threatened</td>\n",
       "      <td>Nonvascular Plant</td>\n",
       "      <td>NaN</td>\n",
       "    </tr>\n",
       "    <tr>\n",
       "      <th>20</th>\n",
       "      <td>Endangered</td>\n",
       "      <td>Reptile</td>\n",
       "      <td>NaN</td>\n",
       "    </tr>\n",
       "    <tr>\n",
       "      <th>21</th>\n",
       "      <td>In Recovery</td>\n",
       "      <td>Reptile</td>\n",
       "      <td>NaN</td>\n",
       "    </tr>\n",
       "    <tr>\n",
       "      <th>22</th>\n",
       "      <td>Species of Concern</td>\n",
       "      <td>Reptile</td>\n",
       "      <td>5.0</td>\n",
       "    </tr>\n",
       "    <tr>\n",
       "      <th>23</th>\n",
       "      <td>Threatened</td>\n",
       "      <td>Reptile</td>\n",
       "      <td>NaN</td>\n",
       "    </tr>\n",
       "    <tr>\n",
       "      <th>24</th>\n",
       "      <td>Endangered</td>\n",
       "      <td>Vascular Plant</td>\n",
       "      <td>1.0</td>\n",
       "    </tr>\n",
       "    <tr>\n",
       "      <th>25</th>\n",
       "      <td>In Recovery</td>\n",
       "      <td>Vascular Plant</td>\n",
       "      <td>NaN</td>\n",
       "    </tr>\n",
       "    <tr>\n",
       "      <th>26</th>\n",
       "      <td>Species of Concern</td>\n",
       "      <td>Vascular Plant</td>\n",
       "      <td>43.0</td>\n",
       "    </tr>\n",
       "    <tr>\n",
       "      <th>27</th>\n",
       "      <td>Threatened</td>\n",
       "      <td>Vascular Plant</td>\n",
       "      <td>2.0</td>\n",
       "    </tr>\n",
       "  </tbody>\n",
       "</table>\n",
       "</div>"
      ],
      "text/plain": [
       "   conservation_status           category  count\n",
       "0           Endangered          Amphibian    1.0\n",
       "1          In Recovery          Amphibian    NaN\n",
       "2   Species of Concern          Amphibian    4.0\n",
       "3           Threatened          Amphibian    2.0\n",
       "4           Endangered               Bird    4.0\n",
       "5          In Recovery               Bird    3.0\n",
       "6   Species of Concern               Bird   72.0\n",
       "7           Threatened               Bird    NaN\n",
       "8           Endangered               Fish    3.0\n",
       "9          In Recovery               Fish    NaN\n",
       "10  Species of Concern               Fish    4.0\n",
       "11          Threatened               Fish    4.0\n",
       "12          Endangered             Mammal    7.0\n",
       "13         In Recovery             Mammal    1.0\n",
       "14  Species of Concern             Mammal   28.0\n",
       "15          Threatened             Mammal    2.0\n",
       "16          Endangered  Nonvascular Plant    NaN\n",
       "17         In Recovery  Nonvascular Plant    NaN\n",
       "18  Species of Concern  Nonvascular Plant    5.0\n",
       "19          Threatened  Nonvascular Plant    NaN\n",
       "20          Endangered            Reptile    NaN\n",
       "21         In Recovery            Reptile    NaN\n",
       "22  Species of Concern            Reptile    5.0\n",
       "23          Threatened            Reptile    NaN\n",
       "24          Endangered     Vascular Plant    1.0\n",
       "25         In Recovery     Vascular Plant    NaN\n",
       "26  Species of Concern     Vascular Plant   43.0\n",
       "27          Threatened     Vascular Plant    2.0"
      ]
     },
     "execution_count": 14,
     "metadata": {},
     "output_type": "execute_result"
    }
   ],
   "source": [
    "conservation_category_reset"
   ]
  },
  {
   "cell_type": "markdown",
   "metadata": {},
   "source": [
    "### More Endangered\n",
    "\n",
    "Is one species more likely to be endangered than another? To look at this we can create a new column `is_protected` that will include any speices that have a value other than `No Intervention`."
   ]
  },
  {
   "cell_type": "code",
   "execution_count": 15,
   "metadata": {},
   "outputs": [],
   "source": [
    "species['is_protected'] = species.conservation_status != 'No Intervention'"
   ]
  },
  {
   "cell_type": "markdown",
   "metadata": {},
   "source": [
    "With this column created we can group by `category` and `is_protected` to see if one speices has a higher rate of being endangered than another.\n",
    "\n",
    "The chart below makes is clear to see that `Birds`, `Mammals` and `Vascular Plants` have the higher absolute number of induviduals that need protection. "
   ]
  },
  {
   "cell_type": "code",
   "execution_count": 16,
   "metadata": {},
   "outputs": [
    {
     "data": {
      "application/vnd.microsoft.datawrangler.viewer.v0+json": {
       "columns": [
        {
         "name": "index",
         "rawType": "int64",
         "type": "integer"
        },
        {
         "name": "category",
         "rawType": "object",
         "type": "string"
        },
        {
         "name": "not_protected",
         "rawType": "int64",
         "type": "integer"
        },
        {
         "name": "protected",
         "rawType": "int64",
         "type": "integer"
        }
       ],
       "ref": "ca706431-9005-43d5-8aa7-3444700a4b79",
       "rows": [
        [
         "0",
         "Amphibian",
         "72",
         "7"
        ],
        [
         "1",
         "Bird",
         "413",
         "75"
        ],
        [
         "2",
         "Fish",
         "115",
         "11"
        ],
        [
         "3",
         "Mammal",
         "146",
         "30"
        ],
        [
         "4",
         "Nonvascular Plant",
         "328",
         "5"
        ],
        [
         "5",
         "Reptile",
         "73",
         "5"
        ],
        [
         "6",
         "Vascular Plant",
         "4216",
         "46"
        ]
       ],
       "shape": {
        "columns": 3,
        "rows": 7
       }
      },
      "text/html": [
       "<div>\n",
       "<style scoped>\n",
       "    .dataframe tbody tr th:only-of-type {\n",
       "        vertical-align: middle;\n",
       "    }\n",
       "\n",
       "    .dataframe tbody tr th {\n",
       "        vertical-align: top;\n",
       "    }\n",
       "\n",
       "    .dataframe thead th {\n",
       "        text-align: right;\n",
       "    }\n",
       "</style>\n",
       "<table border=\"1\" class=\"dataframe\">\n",
       "  <thead>\n",
       "    <tr style=\"text-align: right;\">\n",
       "      <th></th>\n",
       "      <th>category</th>\n",
       "      <th>not_protected</th>\n",
       "      <th>protected</th>\n",
       "    </tr>\n",
       "  </thead>\n",
       "  <tbody>\n",
       "    <tr>\n",
       "      <th>0</th>\n",
       "      <td>Amphibian</td>\n",
       "      <td>72</td>\n",
       "      <td>7</td>\n",
       "    </tr>\n",
       "    <tr>\n",
       "      <th>1</th>\n",
       "      <td>Bird</td>\n",
       "      <td>413</td>\n",
       "      <td>75</td>\n",
       "    </tr>\n",
       "    <tr>\n",
       "      <th>2</th>\n",
       "      <td>Fish</td>\n",
       "      <td>115</td>\n",
       "      <td>11</td>\n",
       "    </tr>\n",
       "    <tr>\n",
       "      <th>3</th>\n",
       "      <td>Mammal</td>\n",
       "      <td>146</td>\n",
       "      <td>30</td>\n",
       "    </tr>\n",
       "    <tr>\n",
       "      <th>4</th>\n",
       "      <td>Nonvascular Plant</td>\n",
       "      <td>328</td>\n",
       "      <td>5</td>\n",
       "    </tr>\n",
       "    <tr>\n",
       "      <th>5</th>\n",
       "      <td>Reptile</td>\n",
       "      <td>73</td>\n",
       "      <td>5</td>\n",
       "    </tr>\n",
       "    <tr>\n",
       "      <th>6</th>\n",
       "      <td>Vascular Plant</td>\n",
       "      <td>4216</td>\n",
       "      <td>46</td>\n",
       "    </tr>\n",
       "  </tbody>\n",
       "</table>\n",
       "</div>"
      ],
      "text/plain": [
       "            category  not_protected  protected\n",
       "0          Amphibian             72          7\n",
       "1               Bird            413         75\n",
       "2               Fish            115         11\n",
       "3             Mammal            146         30\n",
       "4  Nonvascular Plant            328          5\n",
       "5            Reptile             73          5\n",
       "6     Vascular Plant           4216         46"
      ]
     },
     "execution_count": 16,
     "metadata": {},
     "output_type": "execute_result"
    }
   ],
   "source": [
    "category_counts = species.groupby(['category', 'is_protected'])\\\n",
    "                        .scientific_name.nunique()\\\n",
    "                        .reset_index()\\\n",
    "                        .pivot(columns='is_protected',\n",
    "                                      index='category',\n",
    "                                      values='scientific_name')\\\n",
    "                        .reset_index()\n",
    "category_counts.columns = ['category', 'not_protected', 'protected']\n",
    "\n",
    "category_counts"
   ]
  },
  {
   "cell_type": "markdown",
   "metadata": {},
   "source": [
    "Absolute numbers may not always be the best data for direct comparisson. For instance there are roughly 4300 observed species of vascular plant in the data but only 79 amphibians. Looking at a rate of protection for each category may provide some more insight. \n",
    "\n",
    "If we look at `protection_rate` we can see that ~ 15% of birds are under protection and that ~ 17% of mammals are under protection."
   ]
  },
  {
   "cell_type": "code",
   "execution_count": 17,
   "metadata": {},
   "outputs": [
    {
     "data": {
      "application/vnd.microsoft.datawrangler.viewer.v0+json": {
       "columns": [
        {
         "name": "index",
         "rawType": "int64",
         "type": "integer"
        },
        {
         "name": "category",
         "rawType": "object",
         "type": "string"
        },
        {
         "name": "not_protected",
         "rawType": "int64",
         "type": "integer"
        },
        {
         "name": "protected",
         "rawType": "int64",
         "type": "integer"
        },
        {
         "name": "protection_rate",
         "rawType": "float64",
         "type": "float"
        }
       ],
       "ref": "7c80fe9e-4a1e-4ea0-8921-b2cf18975f0e",
       "rows": [
        [
         "0",
         "Amphibian",
         "72",
         "7",
         "8.86"
        ],
        [
         "1",
         "Bird",
         "413",
         "75",
         "15.37"
        ],
        [
         "2",
         "Fish",
         "115",
         "11",
         "8.73"
        ],
        [
         "3",
         "Mammal",
         "146",
         "30",
         "17.05"
        ],
        [
         "4",
         "Nonvascular Plant",
         "328",
         "5",
         "1.5"
        ],
        [
         "5",
         "Reptile",
         "73",
         "5",
         "6.41"
        ],
        [
         "6",
         "Vascular Plant",
         "4216",
         "46",
         "1.08"
        ]
       ],
       "shape": {
        "columns": 4,
        "rows": 7
       }
      },
      "text/html": [
       "<div>\n",
       "<style scoped>\n",
       "    .dataframe tbody tr th:only-of-type {\n",
       "        vertical-align: middle;\n",
       "    }\n",
       "\n",
       "    .dataframe tbody tr th {\n",
       "        vertical-align: top;\n",
       "    }\n",
       "\n",
       "    .dataframe thead th {\n",
       "        text-align: right;\n",
       "    }\n",
       "</style>\n",
       "<table border=\"1\" class=\"dataframe\">\n",
       "  <thead>\n",
       "    <tr style=\"text-align: right;\">\n",
       "      <th></th>\n",
       "      <th>category</th>\n",
       "      <th>not_protected</th>\n",
       "      <th>protected</th>\n",
       "      <th>protection_rate</th>\n",
       "    </tr>\n",
       "  </thead>\n",
       "  <tbody>\n",
       "    <tr>\n",
       "      <th>0</th>\n",
       "      <td>Amphibian</td>\n",
       "      <td>72</td>\n",
       "      <td>7</td>\n",
       "      <td>8.86</td>\n",
       "    </tr>\n",
       "    <tr>\n",
       "      <th>1</th>\n",
       "      <td>Bird</td>\n",
       "      <td>413</td>\n",
       "      <td>75</td>\n",
       "      <td>15.37</td>\n",
       "    </tr>\n",
       "    <tr>\n",
       "      <th>2</th>\n",
       "      <td>Fish</td>\n",
       "      <td>115</td>\n",
       "      <td>11</td>\n",
       "      <td>8.73</td>\n",
       "    </tr>\n",
       "    <tr>\n",
       "      <th>3</th>\n",
       "      <td>Mammal</td>\n",
       "      <td>146</td>\n",
       "      <td>30</td>\n",
       "      <td>17.05</td>\n",
       "    </tr>\n",
       "    <tr>\n",
       "      <th>4</th>\n",
       "      <td>Nonvascular Plant</td>\n",
       "      <td>328</td>\n",
       "      <td>5</td>\n",
       "      <td>1.50</td>\n",
       "    </tr>\n",
       "    <tr>\n",
       "      <th>5</th>\n",
       "      <td>Reptile</td>\n",
       "      <td>73</td>\n",
       "      <td>5</td>\n",
       "      <td>6.41</td>\n",
       "    </tr>\n",
       "    <tr>\n",
       "      <th>6</th>\n",
       "      <td>Vascular Plant</td>\n",
       "      <td>4216</td>\n",
       "      <td>46</td>\n",
       "      <td>1.08</td>\n",
       "    </tr>\n",
       "  </tbody>\n",
       "</table>\n",
       "</div>"
      ],
      "text/plain": [
       "            category  not_protected  protected  protection_rate\n",
       "0          Amphibian             72          7             8.86\n",
       "1               Bird            413         75            15.37\n",
       "2               Fish            115         11             8.73\n",
       "3             Mammal            146         30            17.05\n",
       "4  Nonvascular Plant            328          5             1.50\n",
       "5            Reptile             73          5             6.41\n",
       "6     Vascular Plant           4216         46             1.08"
      ]
     },
     "execution_count": 17,
     "metadata": {},
     "output_type": "execute_result"
    }
   ],
   "source": [
    "category_counts['protection_rate'] = category_counts.protected / \\\n",
    "    (category_counts.protected + category_counts.not_protected) * 100\n",
    "category_counts = category_counts.round({'protection_rate': 2})\n",
    "    \n",
    "category_counts    "
   ]
  },
  {
   "cell_type": "markdown",
   "metadata": {},
   "source": [
    "### Statistical Signifigance\n",
    "\n",
    "This next section will run chi-squared tests to see if different species have statistically significant differences in conservation status rates. In order to run a chi squared test, a contingency table will need to be created. The contingency table should look like this:\n",
    "\n",
    "||protected|not protected|\n",
    "|-|-|-|\n",
    "|Mammal|?|?|\n",
    "|Bird|?|?|\n",
    "\n",
    "The first one we shall look at is mammals and birds. running a chi-squared test provides a lot of numbers but we will only focus on the `P-Value`. For Mammals and Birds the `P-Value` was 0.688 and the standard `P-Value` to test statisticall signifigance is 0.05. In the case of mammals and birds there doesn't appear to be and statistical signifigance. "
   ]
  },
  {
   "cell_type": "code",
   "execution_count": 18,
   "metadata": {},
   "outputs": [],
   "source": [
    "from scipy.stats import chi2_contingency "
   ]
  },
  {
   "cell_type": "code",
   "execution_count": 19,
   "metadata": {},
   "outputs": [
    {
     "data": {
      "text/plain": [
       "Chi2ContingencyResult(statistic=np.float64(0.1617014831654557), pvalue=np.float64(0.6875948096661336), dof=1, expected_freq=array([[ 27.8313253, 148.1686747],\n",
       "       [ 77.1686747, 410.8313253]]))"
      ]
     },
     "execution_count": 19,
     "metadata": {},
     "output_type": "execute_result"
    }
   ],
   "source": [
    "contingency_1 = [[30,146],[75,413]]\n",
    "\n",
    "chi2_contingency(contingency_1)"
   ]
  },
  {
   "cell_type": "markdown",
   "metadata": {},
   "source": [
    "#### Mammals and Vascular Plants\n",
    "\n",
    "We will look at a few more chi-squared tests before moving on. The `P-Value` of Mammals and Vascular plants is 1.44e-55, a tiny number, we can see there is a clear statistical signifigance and that Mammals are in need of more protection than Vascular Plants"
   ]
  },
  {
   "cell_type": "code",
   "execution_count": 20,
   "metadata": {},
   "outputs": [
    {
     "data": {
      "text/plain": [
       "Chi2ContingencyResult(statistic=np.float64(246.5870424874456), pvalue=np.float64(1.4405067309854046e-55), dof=1, expected_freq=array([[3.01397026e+00, 1.72986030e+02],\n",
       "       [7.29860297e+01, 4.18901397e+03]]))"
      ]
     },
     "execution_count": 20,
     "metadata": {},
     "output_type": "execute_result"
    }
   ],
   "source": [
    "contingency_2 = [[30,146],[46,4216]]\n",
    "\n",
    "chi2_contingency(contingency_2)"
   ]
  },
  {
   "cell_type": "markdown",
   "metadata": {},
   "source": [
    "#### Mammals and Reptiles\n",
    "\n",
    "Lets do one more before moving on and lets look at the chi-square for Mammals and Reptiles. Here we get a `P-Value` of 0.038 which, when compared to that statistical signifigance value of 0.05, shows that Mammals also have a statistically higher need of more protection than Reptiles."
   ]
  },
  {
   "cell_type": "code",
   "execution_count": 21,
   "metadata": {},
   "outputs": [
    {
     "data": {
      "text/plain": [
       "Chi2ContingencyResult(statistic=np.float64(4.289183096203645), pvalue=np.float64(0.03835559022969898), dof=1, expected_freq=array([[ 24.2519685, 151.7480315],\n",
       "       [ 10.7480315,  67.2519685]]))"
      ]
     },
     "execution_count": 21,
     "metadata": {},
     "output_type": "execute_result"
    }
   ],
   "source": [
    "contingency_3 = [[30,146],[5,73]]\n",
    "\n",
    "chi2_contingency(contingency_3)"
   ]
  },
  {
   "cell_type": "markdown",
   "metadata": {},
   "source": [
    "## Species in Parks\n",
    "\n",
    "The next bit of analysis will focus on the data the conservationsists have been recording over the last 7 days recording species sightings across 4 national parks.\n",
    "\n",
    "The first step will be to look at the common names and get a sense of the most common animals."
   ]
  },
  {
   "cell_type": "code",
   "execution_count": 22,
   "metadata": {},
   "outputs": [],
   "source": [
    "from itertools import chain\n",
    "import string"
   ]
  },
  {
   "cell_type": "code",
   "execution_count": 25,
   "metadata": {},
   "outputs": [
    {
     "data": {
      "text/plain": [
       "[['Gappers', 'RedBacked', 'Vole'],\n",
       " ['American', 'Bison', 'Bison'],\n",
       " ['Aurochs',\n",
       "  'Aurochs',\n",
       "  'Domestic',\n",
       "  'Cattle',\n",
       "  'Feral',\n",
       "  'Domesticated',\n",
       "  'Cattle'],\n",
       " ['Domestic', 'Sheep', 'Mouflon', 'Red', 'Sheep', 'Sheep', 'Feral'],\n",
       " ['Wapiti', 'Or', 'Elk']]"
      ]
     },
     "execution_count": 25,
     "metadata": {},
     "output_type": "execute_result"
    }
   ],
   "source": [
    "def remove_punctuation(text):\n",
    "    for punctuation in string.punctuation:\n",
    "        text = text.replace(punctuation, '')\n",
    "    return text\n",
    "\n",
    "list_of_common_name = species[species.category == 'Mammal']\\\n",
    "    .common_names.apply(remove_punctuation).str.split().to_list()\n",
    "    \n",
    "list_of_common_name[:5]        "
   ]
  },
  {
   "cell_type": "markdown",
   "metadata": {},
   "source": [
    "Now lets remove words that have been repeated as we don't want to count the same animal more than once."
   ]
  },
  {
   "cell_type": "code",
   "execution_count": 26,
   "metadata": {},
   "outputs": [
    {
     "data": {
      "text/plain": [
       "[['Gappers', 'RedBacked', 'Vole'],\n",
       " ['American', 'Bison'],\n",
       " ['Aurochs', 'Domestic', 'Cattle', 'Feral', 'Domesticated'],\n",
       " ['Domestic', 'Sheep', 'Mouflon', 'Red', 'Feral'],\n",
       " ['Wapiti', 'Or', 'Elk']]"
      ]
     },
     "execution_count": 26,
     "metadata": {},
     "output_type": "execute_result"
    }
   ],
   "source": [
    "common_names_clean = []\n",
    "\n",
    "for i in list_of_common_name:\n",
    "    i = list(dict.fromkeys(i))\n",
    "    common_names_clean.append(i)\n",
    "    \n",
    "common_names_clean[:5]    "
   ]
  },
  {
   "cell_type": "markdown",
   "metadata": {},
   "source": [
    "For even easier use lets colapse `common_names_clean` into one list."
   ]
  },
  {
   "cell_type": "code",
   "execution_count": 27,
   "metadata": {},
   "outputs": [
    {
     "data": {
      "text/plain": [
       "['Gappers', 'RedBacked', 'Vole', 'American', 'Bison']"
      ]
     },
     "execution_count": 27,
     "metadata": {},
     "output_type": "execute_result"
    }
   ],
   "source": [
    "common_names_fin = list(chain.from_iterable(i if isinstance(i, list) else [i] for i in common_names_clean))\n",
    "\n",
    "common_names_fin[:5]"
   ]
  },
  {
   "cell_type": "markdown",
   "metadata": {},
   "source": [
    "With this list we can now count the occourance of each word in `common_name_fin` We can see the `Bat` occours 23 times and `shrew` occours 18 times."
   ]
  },
  {
   "cell_type": "code",
   "execution_count": 45,
   "metadata": {},
   "outputs": [
    {
     "data": {
      "application/vnd.microsoft.datawrangler.viewer.v0+json": {
       "columns": [
        {
         "name": "index",
         "rawType": "int64",
         "type": "integer"
        },
        {
         "name": "word",
         "rawType": "object",
         "type": "string"
        },
        {
         "name": "count",
         "rawType": "int64",
         "type": "integer"
        }
       ],
       "ref": "9dd5e2ec-2a2a-4088-822e-989499fa377f",
       "rows": [
        [
         "51",
         "Bat",
         "23"
        ],
        [
         "110",
         "Shrew",
         "18"
        ],
        [
         "57",
         "Myotis",
         "17"
        ],
        [
         "88",
         "Mouse",
         "16"
        ],
        [
         "107",
         "Chipmunk",
         "13"
        ]
       ],
       "shape": {
        "columns": 2,
        "rows": 5
       }
      },
      "text/html": [
       "<div>\n",
       "<style scoped>\n",
       "    .dataframe tbody tr th:only-of-type {\n",
       "        vertical-align: middle;\n",
       "    }\n",
       "\n",
       "    .dataframe tbody tr th {\n",
       "        vertical-align: top;\n",
       "    }\n",
       "\n",
       "    .dataframe thead th {\n",
       "        text-align: right;\n",
       "    }\n",
       "</style>\n",
       "<table border=\"1\" class=\"dataframe\">\n",
       "  <thead>\n",
       "    <tr style=\"text-align: right;\">\n",
       "      <th></th>\n",
       "      <th>word</th>\n",
       "      <th>count</th>\n",
       "    </tr>\n",
       "  </thead>\n",
       "  <tbody>\n",
       "    <tr>\n",
       "      <th>51</th>\n",
       "      <td>Bat</td>\n",
       "      <td>23</td>\n",
       "    </tr>\n",
       "    <tr>\n",
       "      <th>110</th>\n",
       "      <td>Shrew</td>\n",
       "      <td>18</td>\n",
       "    </tr>\n",
       "    <tr>\n",
       "      <th>57</th>\n",
       "      <td>Myotis</td>\n",
       "      <td>17</td>\n",
       "    </tr>\n",
       "    <tr>\n",
       "      <th>88</th>\n",
       "      <td>Mouse</td>\n",
       "      <td>16</td>\n",
       "    </tr>\n",
       "    <tr>\n",
       "      <th>107</th>\n",
       "      <td>Chipmunk</td>\n",
       "      <td>13</td>\n",
       "    </tr>\n",
       "  </tbody>\n",
       "</table>\n",
       "</div>"
      ],
      "text/plain": [
       "         word  count\n",
       "51        Bat     23\n",
       "110     Shrew     18\n",
       "57     Myotis     17\n",
       "88      Mouse     16\n",
       "107  Chipmunk     13"
      ]
     },
     "execution_count": 45,
     "metadata": {},
     "output_type": "execute_result"
    }
   ],
   "source": [
    "from collections import Counter\n",
    "\n",
    "word_count = Counter(common_names_fin)\n",
    "words_counted = pd.DataFrame(word_count.items(), columns=['word', 'count'])\n",
    "words_counted = words_counted.sort_values('count', ascending=False)\n",
    "words_counted.head()"
   ]
  },
  {
   "cell_type": "markdown",
   "metadata": {},
   "source": [
    "The data has several different scientific names for bats. To figure out which rows of `species` are refering to bat is to create a simple column `is_bat` with simple boolean variables to check if `is_bat` is True"
   ]
  },
  {
   "cell_type": "code",
   "execution_count": 50,
   "metadata": {},
   "outputs": [
    {
     "data": {
      "application/vnd.microsoft.datawrangler.viewer.v0+json": {
       "columns": [
        {
         "name": "index",
         "rawType": "int64",
         "type": "integer"
        },
        {
         "name": "category",
         "rawType": "object",
         "type": "string"
        },
        {
         "name": "scientific_name",
         "rawType": "object",
         "type": "string"
        },
        {
         "name": "common_names",
         "rawType": "object",
         "type": "string"
        },
        {
         "name": "conservation_status",
         "rawType": "object",
         "type": "string"
        },
        {
         "name": "is_protected",
         "rawType": "bool",
         "type": "boolean"
        },
        {
         "name": "is_bat",
         "rawType": "bool",
         "type": "boolean"
        }
       ],
       "ref": "978f75f5-ec7b-4b63-af67-e2011e99d8aa",
       "rows": [
        [
         "0",
         "Mammal",
         "Clethrionomys gapperi gapperi",
         "Gapper's Red-Backed Vole",
         "No Intervention",
         "False",
         "False"
        ],
        [
         "1",
         "Mammal",
         "Bos bison",
         "American Bison, Bison",
         "No Intervention",
         "False",
         "False"
        ],
        [
         "2",
         "Mammal",
         "Bos taurus",
         "Aurochs, Aurochs, Domestic Cattle (Feral), Domesticated Cattle",
         "No Intervention",
         "False",
         "False"
        ],
        [
         "3",
         "Mammal",
         "Ovis aries",
         "Domestic Sheep, Mouflon, Red Sheep, Sheep (Feral)",
         "No Intervention",
         "False",
         "False"
        ],
        [
         "4",
         "Mammal",
         "Cervus elaphus",
         "Wapiti Or Elk",
         "No Intervention",
         "False",
         "False"
        ],
        [
         "5",
         "Mammal",
         "Odocoileus virginianus",
         "White-Tailed Deer",
         "No Intervention",
         "False",
         "False"
        ],
        [
         "6",
         "Mammal",
         "Sus scrofa",
         "Feral Hog, Wild Pig",
         "No Intervention",
         "False",
         "False"
        ],
        [
         "7",
         "Mammal",
         "Canis latrans",
         "Coyote",
         "Species of Concern",
         "True",
         "False"
        ],
        [
         "8",
         "Mammal",
         "Canis lupus",
         "Gray Wolf",
         "Endangered",
         "True",
         "False"
        ],
        [
         "9",
         "Mammal",
         "Canis rufus",
         "Red Wolf",
         "Endangered",
         "True",
         "False"
        ]
       ],
       "shape": {
        "columns": 6,
        "rows": 10
       }
      },
      "text/html": [
       "<div>\n",
       "<style scoped>\n",
       "    .dataframe tbody tr th:only-of-type {\n",
       "        vertical-align: middle;\n",
       "    }\n",
       "\n",
       "    .dataframe tbody tr th {\n",
       "        vertical-align: top;\n",
       "    }\n",
       "\n",
       "    .dataframe thead th {\n",
       "        text-align: right;\n",
       "    }\n",
       "</style>\n",
       "<table border=\"1\" class=\"dataframe\">\n",
       "  <thead>\n",
       "    <tr style=\"text-align: right;\">\n",
       "      <th></th>\n",
       "      <th>category</th>\n",
       "      <th>scientific_name</th>\n",
       "      <th>common_names</th>\n",
       "      <th>conservation_status</th>\n",
       "      <th>is_protected</th>\n",
       "      <th>is_bat</th>\n",
       "    </tr>\n",
       "  </thead>\n",
       "  <tbody>\n",
       "    <tr>\n",
       "      <th>0</th>\n",
       "      <td>Mammal</td>\n",
       "      <td>Clethrionomys gapperi gapperi</td>\n",
       "      <td>Gapper's Red-Backed Vole</td>\n",
       "      <td>No Intervention</td>\n",
       "      <td>False</td>\n",
       "      <td>False</td>\n",
       "    </tr>\n",
       "    <tr>\n",
       "      <th>1</th>\n",
       "      <td>Mammal</td>\n",
       "      <td>Bos bison</td>\n",
       "      <td>American Bison, Bison</td>\n",
       "      <td>No Intervention</td>\n",
       "      <td>False</td>\n",
       "      <td>False</td>\n",
       "    </tr>\n",
       "    <tr>\n",
       "      <th>2</th>\n",
       "      <td>Mammal</td>\n",
       "      <td>Bos taurus</td>\n",
       "      <td>Aurochs, Aurochs, Domestic Cattle (Feral), Dom...</td>\n",
       "      <td>No Intervention</td>\n",
       "      <td>False</td>\n",
       "      <td>False</td>\n",
       "    </tr>\n",
       "    <tr>\n",
       "      <th>3</th>\n",
       "      <td>Mammal</td>\n",
       "      <td>Ovis aries</td>\n",
       "      <td>Domestic Sheep, Mouflon, Red Sheep, Sheep (Feral)</td>\n",
       "      <td>No Intervention</td>\n",
       "      <td>False</td>\n",
       "      <td>False</td>\n",
       "    </tr>\n",
       "    <tr>\n",
       "      <th>4</th>\n",
       "      <td>Mammal</td>\n",
       "      <td>Cervus elaphus</td>\n",
       "      <td>Wapiti Or Elk</td>\n",
       "      <td>No Intervention</td>\n",
       "      <td>False</td>\n",
       "      <td>False</td>\n",
       "    </tr>\n",
       "    <tr>\n",
       "      <th>5</th>\n",
       "      <td>Mammal</td>\n",
       "      <td>Odocoileus virginianus</td>\n",
       "      <td>White-Tailed Deer</td>\n",
       "      <td>No Intervention</td>\n",
       "      <td>False</td>\n",
       "      <td>False</td>\n",
       "    </tr>\n",
       "    <tr>\n",
       "      <th>6</th>\n",
       "      <td>Mammal</td>\n",
       "      <td>Sus scrofa</td>\n",
       "      <td>Feral Hog, Wild Pig</td>\n",
       "      <td>No Intervention</td>\n",
       "      <td>False</td>\n",
       "      <td>False</td>\n",
       "    </tr>\n",
       "    <tr>\n",
       "      <th>7</th>\n",
       "      <td>Mammal</td>\n",
       "      <td>Canis latrans</td>\n",
       "      <td>Coyote</td>\n",
       "      <td>Species of Concern</td>\n",
       "      <td>True</td>\n",
       "      <td>False</td>\n",
       "    </tr>\n",
       "    <tr>\n",
       "      <th>8</th>\n",
       "      <td>Mammal</td>\n",
       "      <td>Canis lupus</td>\n",
       "      <td>Gray Wolf</td>\n",
       "      <td>Endangered</td>\n",
       "      <td>True</td>\n",
       "      <td>False</td>\n",
       "    </tr>\n",
       "    <tr>\n",
       "      <th>9</th>\n",
       "      <td>Mammal</td>\n",
       "      <td>Canis rufus</td>\n",
       "      <td>Red Wolf</td>\n",
       "      <td>Endangered</td>\n",
       "      <td>True</td>\n",
       "      <td>False</td>\n",
       "    </tr>\n",
       "  </tbody>\n",
       "</table>\n",
       "</div>"
      ],
      "text/plain": [
       "  category                scientific_name  \\\n",
       "0   Mammal  Clethrionomys gapperi gapperi   \n",
       "1   Mammal                      Bos bison   \n",
       "2   Mammal                     Bos taurus   \n",
       "3   Mammal                     Ovis aries   \n",
       "4   Mammal                 Cervus elaphus   \n",
       "5   Mammal         Odocoileus virginianus   \n",
       "6   Mammal                     Sus scrofa   \n",
       "7   Mammal                  Canis latrans   \n",
       "8   Mammal                    Canis lupus   \n",
       "9   Mammal                    Canis rufus   \n",
       "\n",
       "                                        common_names conservation_status  \\\n",
       "0                           Gapper's Red-Backed Vole     No Intervention   \n",
       "1                              American Bison, Bison     No Intervention   \n",
       "2  Aurochs, Aurochs, Domestic Cattle (Feral), Dom...     No Intervention   \n",
       "3  Domestic Sheep, Mouflon, Red Sheep, Sheep (Feral)     No Intervention   \n",
       "4                                      Wapiti Or Elk     No Intervention   \n",
       "5                                  White-Tailed Deer     No Intervention   \n",
       "6                                Feral Hog, Wild Pig     No Intervention   \n",
       "7                                             Coyote  Species of Concern   \n",
       "8                                          Gray Wolf          Endangered   \n",
       "9                                           Red Wolf          Endangered   \n",
       "\n",
       "   is_protected  is_bat  \n",
       "0         False   False  \n",
       "1         False   False  \n",
       "2         False   False  \n",
       "3         False   False  \n",
       "4         False   False  \n",
       "5         False   False  \n",
       "6         False   False  \n",
       "7          True   False  \n",
       "8          True   False  \n",
       "9          True   False  "
      ]
     },
     "execution_count": 50,
     "metadata": {},
     "output_type": "execute_result"
    }
   ],
   "source": [
    "species['is_bat'] = species.common_names.str.contains(r\"\\bBat\\b\", regex=True)\n",
    "\n",
    "species.head(10)"
   ]
  },
  {
   "cell_type": "markdown",
   "metadata": {},
   "source": [
    "Below is a filtered list of all the bat species in `species` displaying a mix of protected and non-protected bats."
   ]
  },
  {
   "cell_type": "code",
   "execution_count": 51,
   "metadata": {},
   "outputs": [
    {
     "data": {
      "application/vnd.microsoft.datawrangler.viewer.v0+json": {
       "columns": [
        {
         "name": "index",
         "rawType": "int64",
         "type": "integer"
        },
        {
         "name": "category",
         "rawType": "object",
         "type": "string"
        },
        {
         "name": "scientific_name",
         "rawType": "object",
         "type": "string"
        },
        {
         "name": "common_names",
         "rawType": "object",
         "type": "string"
        },
        {
         "name": "conservation_status",
         "rawType": "object",
         "type": "string"
        },
        {
         "name": "is_protected",
         "rawType": "bool",
         "type": "boolean"
        },
        {
         "name": "is_bat",
         "rawType": "bool",
         "type": "boolean"
        }
       ],
       "ref": "511d3c19-7d21-4f60-9cc4-dbca88e1939a",
       "rows": [
        [
         "28",
         "Mammal",
         "Corynorhinus rafinesquii",
         "Rafinesque's Big-Eared Bat",
         "No Intervention",
         "False",
         "True"
        ],
        [
         "29",
         "Mammal",
         "Eptesicus fuscus",
         "Big Brown Bat",
         "Species of Concern",
         "True",
         "True"
        ],
        [
         "30",
         "Mammal",
         "Lasionycteris noctivagans",
         "Silver-Haired Bat",
         "Species of Concern",
         "True",
         "True"
        ],
        [
         "31",
         "Mammal",
         "Lasiurus borealis",
         "Eastern Red Bat, Red Bat",
         "No Intervention",
         "False",
         "True"
        ],
        [
         "32",
         "Mammal",
         "Lasiurus cinereus",
         "Hoary Bat",
         "No Intervention",
         "False",
         "True"
        ],
        [
         "36",
         "Mammal",
         "Myotis leibii",
         "Eastern Small-Footed Bat, Eastern Small-Footed Myotis",
         "Species of Concern",
         "True",
         "True"
        ],
        [
         "37",
         "Mammal",
         "Myotis lucifugus",
         "Little Brown Bat, Little Brown Myotis",
         "Species of Concern",
         "True",
         "True"
        ],
        [
         "38",
         "Mammal",
         "Myotis septentrionalis",
         "Northern Long-Eared Bat, Northern Myotis",
         "Threatened",
         "True",
         "True"
        ],
        [
         "39",
         "Mammal",
         "Myotis sodalis",
         "Indiana Bat, Indiana Or Social Myotis",
         "Endangered",
         "True",
         "True"
        ],
        [
         "40",
         "Mammal",
         "Nycticeius humeralis",
         "Evening Bat",
         "No Intervention",
         "False",
         "True"
        ],
        [
         "3033",
         "Mammal",
         "Antrozous pallidus",
         "Pallid Bat, Pallid Bat",
         "Species of Concern",
         "True",
         "True"
        ],
        [
         "3034",
         "Mammal",
         "Corynorhinus townsendii",
         "Mule-Eared Bat, Pacific Townsend's Big-Eared Bat, Townsend's Big-Eared Bat, Townsend's Big-Eared Bat, Western Big-Eared Bat, Western Long-Eared Bat, Western Lump-Nosed Bat",
         "No Intervention",
         "False",
         "True"
        ],
        [
         "3035",
         "Mammal",
         "Eptesicus fuscus",
         "Big Brown Bat, Big Brown Bat",
         "Species of Concern",
         "True",
         "True"
        ],
        [
         "3036",
         "Mammal",
         "Euderma maculatum",
         "Spotted Bat, Spotted Bat",
         "Species of Concern",
         "True",
         "True"
        ],
        [
         "3037",
         "Mammal",
         "Lasionycteris noctivagans",
         "Silver-Haired Bat, Silver-Haired Bat",
         "Species of Concern",
         "True",
         "True"
        ],
        [
         "3038",
         "Mammal",
         "Lasiurus cinereus",
         "Hoary Bat, Hoary Bat",
         "No Intervention",
         "False",
         "True"
        ],
        [
         "3040",
         "Mammal",
         "Myotis ciliolabrum",
         "Small-Footed Myotis, Western Small-Footed Bat, Western Small-Footed Myotis",
         "No Intervention",
         "False",
         "True"
        ],
        [
         "3042",
         "Mammal",
         "Myotis lucifugus",
         "Little Brown Bat, Little Brown Myotis, Little Brown Myotis",
         "Species of Concern",
         "True",
         "True"
        ],
        [
         "4461",
         "Mammal",
         "Eumops perotis",
         "Western Mastiff Bat",
         "No Intervention",
         "False",
         "True"
        ],
        [
         "4462",
         "Mammal",
         "Tadarida brasiliensis",
         "Mexican Free-Tailed Bat",
         "No Intervention",
         "False",
         "True"
        ],
        [
         "4463",
         "Mammal",
         "Corynorhinus townsendii",
         "Townsend's Big-Eared Bat",
         "No Intervention",
         "False",
         "True"
        ],
        [
         "4464",
         "Mammal",
         "Lasiurus blossevillii",
         "Western Red Bat",
         "Species of Concern",
         "True",
         "True"
        ],
        [
         "4468",
         "Mammal",
         "Parastrellus hesperus",
         "Canyon Bat",
         "No Intervention",
         "False",
         "True"
        ]
       ],
       "shape": {
        "columns": 6,
        "rows": 23
       }
      },
      "text/html": [
       "<div>\n",
       "<style scoped>\n",
       "    .dataframe tbody tr th:only-of-type {\n",
       "        vertical-align: middle;\n",
       "    }\n",
       "\n",
       "    .dataframe tbody tr th {\n",
       "        vertical-align: top;\n",
       "    }\n",
       "\n",
       "    .dataframe thead th {\n",
       "        text-align: right;\n",
       "    }\n",
       "</style>\n",
       "<table border=\"1\" class=\"dataframe\">\n",
       "  <thead>\n",
       "    <tr style=\"text-align: right;\">\n",
       "      <th></th>\n",
       "      <th>category</th>\n",
       "      <th>scientific_name</th>\n",
       "      <th>common_names</th>\n",
       "      <th>conservation_status</th>\n",
       "      <th>is_protected</th>\n",
       "      <th>is_bat</th>\n",
       "    </tr>\n",
       "  </thead>\n",
       "  <tbody>\n",
       "    <tr>\n",
       "      <th>28</th>\n",
       "      <td>Mammal</td>\n",
       "      <td>Corynorhinus rafinesquii</td>\n",
       "      <td>Rafinesque's Big-Eared Bat</td>\n",
       "      <td>No Intervention</td>\n",
       "      <td>False</td>\n",
       "      <td>True</td>\n",
       "    </tr>\n",
       "    <tr>\n",
       "      <th>29</th>\n",
       "      <td>Mammal</td>\n",
       "      <td>Eptesicus fuscus</td>\n",
       "      <td>Big Brown Bat</td>\n",
       "      <td>Species of Concern</td>\n",
       "      <td>True</td>\n",
       "      <td>True</td>\n",
       "    </tr>\n",
       "    <tr>\n",
       "      <th>30</th>\n",
       "      <td>Mammal</td>\n",
       "      <td>Lasionycteris noctivagans</td>\n",
       "      <td>Silver-Haired Bat</td>\n",
       "      <td>Species of Concern</td>\n",
       "      <td>True</td>\n",
       "      <td>True</td>\n",
       "    </tr>\n",
       "    <tr>\n",
       "      <th>31</th>\n",
       "      <td>Mammal</td>\n",
       "      <td>Lasiurus borealis</td>\n",
       "      <td>Eastern Red Bat, Red Bat</td>\n",
       "      <td>No Intervention</td>\n",
       "      <td>False</td>\n",
       "      <td>True</td>\n",
       "    </tr>\n",
       "    <tr>\n",
       "      <th>32</th>\n",
       "      <td>Mammal</td>\n",
       "      <td>Lasiurus cinereus</td>\n",
       "      <td>Hoary Bat</td>\n",
       "      <td>No Intervention</td>\n",
       "      <td>False</td>\n",
       "      <td>True</td>\n",
       "    </tr>\n",
       "    <tr>\n",
       "      <th>36</th>\n",
       "      <td>Mammal</td>\n",
       "      <td>Myotis leibii</td>\n",
       "      <td>Eastern Small-Footed Bat, Eastern Small-Footed...</td>\n",
       "      <td>Species of Concern</td>\n",
       "      <td>True</td>\n",
       "      <td>True</td>\n",
       "    </tr>\n",
       "    <tr>\n",
       "      <th>37</th>\n",
       "      <td>Mammal</td>\n",
       "      <td>Myotis lucifugus</td>\n",
       "      <td>Little Brown Bat, Little Brown Myotis</td>\n",
       "      <td>Species of Concern</td>\n",
       "      <td>True</td>\n",
       "      <td>True</td>\n",
       "    </tr>\n",
       "    <tr>\n",
       "      <th>38</th>\n",
       "      <td>Mammal</td>\n",
       "      <td>Myotis septentrionalis</td>\n",
       "      <td>Northern Long-Eared Bat, Northern Myotis</td>\n",
       "      <td>Threatened</td>\n",
       "      <td>True</td>\n",
       "      <td>True</td>\n",
       "    </tr>\n",
       "    <tr>\n",
       "      <th>39</th>\n",
       "      <td>Mammal</td>\n",
       "      <td>Myotis sodalis</td>\n",
       "      <td>Indiana Bat, Indiana Or Social Myotis</td>\n",
       "      <td>Endangered</td>\n",
       "      <td>True</td>\n",
       "      <td>True</td>\n",
       "    </tr>\n",
       "    <tr>\n",
       "      <th>40</th>\n",
       "      <td>Mammal</td>\n",
       "      <td>Nycticeius humeralis</td>\n",
       "      <td>Evening Bat</td>\n",
       "      <td>No Intervention</td>\n",
       "      <td>False</td>\n",
       "      <td>True</td>\n",
       "    </tr>\n",
       "    <tr>\n",
       "      <th>3033</th>\n",
       "      <td>Mammal</td>\n",
       "      <td>Antrozous pallidus</td>\n",
       "      <td>Pallid Bat, Pallid Bat</td>\n",
       "      <td>Species of Concern</td>\n",
       "      <td>True</td>\n",
       "      <td>True</td>\n",
       "    </tr>\n",
       "    <tr>\n",
       "      <th>3034</th>\n",
       "      <td>Mammal</td>\n",
       "      <td>Corynorhinus townsendii</td>\n",
       "      <td>Mule-Eared Bat, Pacific Townsend's Big-Eared B...</td>\n",
       "      <td>No Intervention</td>\n",
       "      <td>False</td>\n",
       "      <td>True</td>\n",
       "    </tr>\n",
       "    <tr>\n",
       "      <th>3035</th>\n",
       "      <td>Mammal</td>\n",
       "      <td>Eptesicus fuscus</td>\n",
       "      <td>Big Brown Bat, Big Brown Bat</td>\n",
       "      <td>Species of Concern</td>\n",
       "      <td>True</td>\n",
       "      <td>True</td>\n",
       "    </tr>\n",
       "    <tr>\n",
       "      <th>3036</th>\n",
       "      <td>Mammal</td>\n",
       "      <td>Euderma maculatum</td>\n",
       "      <td>Spotted Bat, Spotted Bat</td>\n",
       "      <td>Species of Concern</td>\n",
       "      <td>True</td>\n",
       "      <td>True</td>\n",
       "    </tr>\n",
       "    <tr>\n",
       "      <th>3037</th>\n",
       "      <td>Mammal</td>\n",
       "      <td>Lasionycteris noctivagans</td>\n",
       "      <td>Silver-Haired Bat, Silver-Haired Bat</td>\n",
       "      <td>Species of Concern</td>\n",
       "      <td>True</td>\n",
       "      <td>True</td>\n",
       "    </tr>\n",
       "    <tr>\n",
       "      <th>3038</th>\n",
       "      <td>Mammal</td>\n",
       "      <td>Lasiurus cinereus</td>\n",
       "      <td>Hoary Bat, Hoary Bat</td>\n",
       "      <td>No Intervention</td>\n",
       "      <td>False</td>\n",
       "      <td>True</td>\n",
       "    </tr>\n",
       "    <tr>\n",
       "      <th>3040</th>\n",
       "      <td>Mammal</td>\n",
       "      <td>Myotis ciliolabrum</td>\n",
       "      <td>Small-Footed Myotis, Western Small-Footed Bat,...</td>\n",
       "      <td>No Intervention</td>\n",
       "      <td>False</td>\n",
       "      <td>True</td>\n",
       "    </tr>\n",
       "    <tr>\n",
       "      <th>3042</th>\n",
       "      <td>Mammal</td>\n",
       "      <td>Myotis lucifugus</td>\n",
       "      <td>Little Brown Bat, Little Brown Myotis, Little ...</td>\n",
       "      <td>Species of Concern</td>\n",
       "      <td>True</td>\n",
       "      <td>True</td>\n",
       "    </tr>\n",
       "    <tr>\n",
       "      <th>4461</th>\n",
       "      <td>Mammal</td>\n",
       "      <td>Eumops perotis</td>\n",
       "      <td>Western Mastiff Bat</td>\n",
       "      <td>No Intervention</td>\n",
       "      <td>False</td>\n",
       "      <td>True</td>\n",
       "    </tr>\n",
       "    <tr>\n",
       "      <th>4462</th>\n",
       "      <td>Mammal</td>\n",
       "      <td>Tadarida brasiliensis</td>\n",
       "      <td>Mexican Free-Tailed Bat</td>\n",
       "      <td>No Intervention</td>\n",
       "      <td>False</td>\n",
       "      <td>True</td>\n",
       "    </tr>\n",
       "    <tr>\n",
       "      <th>4463</th>\n",
       "      <td>Mammal</td>\n",
       "      <td>Corynorhinus townsendii</td>\n",
       "      <td>Townsend's Big-Eared Bat</td>\n",
       "      <td>No Intervention</td>\n",
       "      <td>False</td>\n",
       "      <td>True</td>\n",
       "    </tr>\n",
       "    <tr>\n",
       "      <th>4464</th>\n",
       "      <td>Mammal</td>\n",
       "      <td>Lasiurus blossevillii</td>\n",
       "      <td>Western Red Bat</td>\n",
       "      <td>Species of Concern</td>\n",
       "      <td>True</td>\n",
       "      <td>True</td>\n",
       "    </tr>\n",
       "    <tr>\n",
       "      <th>4468</th>\n",
       "      <td>Mammal</td>\n",
       "      <td>Parastrellus hesperus</td>\n",
       "      <td>Canyon Bat</td>\n",
       "      <td>No Intervention</td>\n",
       "      <td>False</td>\n",
       "      <td>True</td>\n",
       "    </tr>\n",
       "  </tbody>\n",
       "</table>\n",
       "</div>"
      ],
      "text/plain": [
       "     category            scientific_name  \\\n",
       "28     Mammal   Corynorhinus rafinesquii   \n",
       "29     Mammal           Eptesicus fuscus   \n",
       "30     Mammal  Lasionycteris noctivagans   \n",
       "31     Mammal          Lasiurus borealis   \n",
       "32     Mammal          Lasiurus cinereus   \n",
       "36     Mammal              Myotis leibii   \n",
       "37     Mammal           Myotis lucifugus   \n",
       "38     Mammal     Myotis septentrionalis   \n",
       "39     Mammal             Myotis sodalis   \n",
       "40     Mammal       Nycticeius humeralis   \n",
       "3033   Mammal         Antrozous pallidus   \n",
       "3034   Mammal    Corynorhinus townsendii   \n",
       "3035   Mammal           Eptesicus fuscus   \n",
       "3036   Mammal          Euderma maculatum   \n",
       "3037   Mammal  Lasionycteris noctivagans   \n",
       "3038   Mammal          Lasiurus cinereus   \n",
       "3040   Mammal         Myotis ciliolabrum   \n",
       "3042   Mammal           Myotis lucifugus   \n",
       "4461   Mammal             Eumops perotis   \n",
       "4462   Mammal      Tadarida brasiliensis   \n",
       "4463   Mammal    Corynorhinus townsendii   \n",
       "4464   Mammal      Lasiurus blossevillii   \n",
       "4468   Mammal      Parastrellus hesperus   \n",
       "\n",
       "                                           common_names conservation_status  \\\n",
       "28                           Rafinesque's Big-Eared Bat     No Intervention   \n",
       "29                                        Big Brown Bat  Species of Concern   \n",
       "30                                    Silver-Haired Bat  Species of Concern   \n",
       "31                             Eastern Red Bat, Red Bat     No Intervention   \n",
       "32                                            Hoary Bat     No Intervention   \n",
       "36    Eastern Small-Footed Bat, Eastern Small-Footed...  Species of Concern   \n",
       "37                Little Brown Bat, Little Brown Myotis  Species of Concern   \n",
       "38             Northern Long-Eared Bat, Northern Myotis          Threatened   \n",
       "39                Indiana Bat, Indiana Or Social Myotis          Endangered   \n",
       "40                                          Evening Bat     No Intervention   \n",
       "3033                             Pallid Bat, Pallid Bat  Species of Concern   \n",
       "3034  Mule-Eared Bat, Pacific Townsend's Big-Eared B...     No Intervention   \n",
       "3035                       Big Brown Bat, Big Brown Bat  Species of Concern   \n",
       "3036                           Spotted Bat, Spotted Bat  Species of Concern   \n",
       "3037               Silver-Haired Bat, Silver-Haired Bat  Species of Concern   \n",
       "3038                               Hoary Bat, Hoary Bat     No Intervention   \n",
       "3040  Small-Footed Myotis, Western Small-Footed Bat,...     No Intervention   \n",
       "3042  Little Brown Bat, Little Brown Myotis, Little ...  Species of Concern   \n",
       "4461                                Western Mastiff Bat     No Intervention   \n",
       "4462                            Mexican Free-Tailed Bat     No Intervention   \n",
       "4463                           Townsend's Big-Eared Bat     No Intervention   \n",
       "4464                                    Western Red Bat  Species of Concern   \n",
       "4468                                         Canyon Bat     No Intervention   \n",
       "\n",
       "      is_protected  is_bat  \n",
       "28           False    True  \n",
       "29            True    True  \n",
       "30            True    True  \n",
       "31           False    True  \n",
       "32           False    True  \n",
       "36            True    True  \n",
       "37            True    True  \n",
       "38            True    True  \n",
       "39            True    True  \n",
       "40           False    True  \n",
       "3033          True    True  \n",
       "3034         False    True  \n",
       "3035          True    True  \n",
       "3036          True    True  \n",
       "3037          True    True  \n",
       "3038         False    True  \n",
       "3040         False    True  \n",
       "3042          True    True  \n",
       "4461         False    True  \n",
       "4462         False    True  \n",
       "4463         False    True  \n",
       "4464          True    True  \n",
       "4468         False    True  "
      ]
     },
     "execution_count": 51,
     "metadata": {},
     "output_type": "execute_result"
    }
   ],
   "source": [
    "species[species.is_bat]"
   ]
  },
  {
   "cell_type": "markdown",
   "metadata": {},
   "source": [
    "#### Bats Across National Parks"
   ]
  },
  {
   "cell_type": "markdown",
   "metadata": {},
   "source": [
    "In order to look at bats across national parks we can merge the DataFrame with `observations` across the four national parks. "
   ]
  },
  {
   "cell_type": "code",
   "execution_count": 52,
   "metadata": {},
   "outputs": [
    {
     "data": {
      "application/vnd.microsoft.datawrangler.viewer.v0+json": {
       "columns": [
        {
         "name": "index",
         "rawType": "int64",
         "type": "integer"
        },
        {
         "name": "scientific_name",
         "rawType": "object",
         "type": "string"
        },
        {
         "name": "park_name",
         "rawType": "object",
         "type": "string"
        },
        {
         "name": "observations",
         "rawType": "int64",
         "type": "integer"
        },
        {
         "name": "category",
         "rawType": "object",
         "type": "string"
        },
        {
         "name": "common_names",
         "rawType": "object",
         "type": "string"
        },
        {
         "name": "conservation_status",
         "rawType": "object",
         "type": "string"
        },
        {
         "name": "is_protected",
         "rawType": "bool",
         "type": "boolean"
        },
        {
         "name": "is_bat",
         "rawType": "bool",
         "type": "boolean"
        }
       ],
       "ref": "b4cfbcb1-88be-4051-b72c-ef2e932638a0",
       "rows": [
        [
         "0",
         "Lasiurus blossevillii",
         "Bryce National Park",
         "113",
         "Mammal",
         "Western Red Bat",
         "Species of Concern",
         "True",
         "True"
        ],
        [
         "1",
         "Corynorhinus rafinesquii",
         "Yosemite National Park",
         "188",
         "Mammal",
         "Rafinesque's Big-Eared Bat",
         "No Intervention",
         "False",
         "True"
        ],
        [
         "2",
         "Nycticeius humeralis",
         "Yellowstone National Park",
         "219",
         "Mammal",
         "Evening Bat",
         "No Intervention",
         "False",
         "True"
        ],
        [
         "3",
         "Lasiurus blossevillii",
         "Great Smoky Mountains National Park",
         "70",
         "Mammal",
         "Western Red Bat",
         "Species of Concern",
         "True",
         "True"
        ],
        [
         "4",
         "Lasiurus borealis",
         "Yosemite National Park",
         "134",
         "Mammal",
         "Eastern Red Bat, Red Bat",
         "No Intervention",
         "False",
         "True"
        ]
       ],
       "shape": {
        "columns": 8,
        "rows": 5
       }
      },
      "text/html": [
       "<div>\n",
       "<style scoped>\n",
       "    .dataframe tbody tr th:only-of-type {\n",
       "        vertical-align: middle;\n",
       "    }\n",
       "\n",
       "    .dataframe tbody tr th {\n",
       "        vertical-align: top;\n",
       "    }\n",
       "\n",
       "    .dataframe thead th {\n",
       "        text-align: right;\n",
       "    }\n",
       "</style>\n",
       "<table border=\"1\" class=\"dataframe\">\n",
       "  <thead>\n",
       "    <tr style=\"text-align: right;\">\n",
       "      <th></th>\n",
       "      <th>scientific_name</th>\n",
       "      <th>park_name</th>\n",
       "      <th>observations</th>\n",
       "      <th>category</th>\n",
       "      <th>common_names</th>\n",
       "      <th>conservation_status</th>\n",
       "      <th>is_protected</th>\n",
       "      <th>is_bat</th>\n",
       "    </tr>\n",
       "  </thead>\n",
       "  <tbody>\n",
       "    <tr>\n",
       "      <th>0</th>\n",
       "      <td>Lasiurus blossevillii</td>\n",
       "      <td>Bryce National Park</td>\n",
       "      <td>113</td>\n",
       "      <td>Mammal</td>\n",
       "      <td>Western Red Bat</td>\n",
       "      <td>Species of Concern</td>\n",
       "      <td>True</td>\n",
       "      <td>True</td>\n",
       "    </tr>\n",
       "    <tr>\n",
       "      <th>1</th>\n",
       "      <td>Corynorhinus rafinesquii</td>\n",
       "      <td>Yosemite National Park</td>\n",
       "      <td>188</td>\n",
       "      <td>Mammal</td>\n",
       "      <td>Rafinesque's Big-Eared Bat</td>\n",
       "      <td>No Intervention</td>\n",
       "      <td>False</td>\n",
       "      <td>True</td>\n",
       "    </tr>\n",
       "    <tr>\n",
       "      <th>2</th>\n",
       "      <td>Nycticeius humeralis</td>\n",
       "      <td>Yellowstone National Park</td>\n",
       "      <td>219</td>\n",
       "      <td>Mammal</td>\n",
       "      <td>Evening Bat</td>\n",
       "      <td>No Intervention</td>\n",
       "      <td>False</td>\n",
       "      <td>True</td>\n",
       "    </tr>\n",
       "    <tr>\n",
       "      <th>3</th>\n",
       "      <td>Lasiurus blossevillii</td>\n",
       "      <td>Great Smoky Mountains National Park</td>\n",
       "      <td>70</td>\n",
       "      <td>Mammal</td>\n",
       "      <td>Western Red Bat</td>\n",
       "      <td>Species of Concern</td>\n",
       "      <td>True</td>\n",
       "      <td>True</td>\n",
       "    </tr>\n",
       "    <tr>\n",
       "      <th>4</th>\n",
       "      <td>Lasiurus borealis</td>\n",
       "      <td>Yosemite National Park</td>\n",
       "      <td>134</td>\n",
       "      <td>Mammal</td>\n",
       "      <td>Eastern Red Bat, Red Bat</td>\n",
       "      <td>No Intervention</td>\n",
       "      <td>False</td>\n",
       "      <td>True</td>\n",
       "    </tr>\n",
       "  </tbody>\n",
       "</table>\n",
       "</div>"
      ],
      "text/plain": [
       "            scientific_name                            park_name  \\\n",
       "0     Lasiurus blossevillii                  Bryce National Park   \n",
       "1  Corynorhinus rafinesquii               Yosemite National Park   \n",
       "2      Nycticeius humeralis            Yellowstone National Park   \n",
       "3     Lasiurus blossevillii  Great Smoky Mountains National Park   \n",
       "4         Lasiurus borealis               Yosemite National Park   \n",
       "\n",
       "   observations category                common_names conservation_status  \\\n",
       "0           113   Mammal             Western Red Bat  Species of Concern   \n",
       "1           188   Mammal  Rafinesque's Big-Eared Bat     No Intervention   \n",
       "2           219   Mammal                 Evening Bat     No Intervention   \n",
       "3            70   Mammal             Western Red Bat  Species of Concern   \n",
       "4           134   Mammal    Eastern Red Bat, Red Bat     No Intervention   \n",
       "\n",
       "   is_protected  is_bat  \n",
       "0          True    True  \n",
       "1         False    True  \n",
       "2         False    True  \n",
       "3          True    True  \n",
       "4         False    True  "
      ]
     },
     "execution_count": 52,
     "metadata": {},
     "output_type": "execute_result"
    }
   ],
   "source": [
    "bats_in_parks = observations.merge(species[species.is_bat])\n",
    "bats_in_parks.head()"
   ]
  },
  {
   "cell_type": "markdown",
   "metadata": {},
   "source": [
    "Now we can look at the counts of the bats across each park. We can see that `Yellowstone National Park` had the highest number of observations of 8362 bats."
   ]
  },
  {
   "cell_type": "code",
   "execution_count": 57,
   "metadata": {},
   "outputs": [
    {
     "data": {
      "application/vnd.microsoft.datawrangler.viewer.v0+json": {
       "columns": [
        {
         "name": "index",
         "rawType": "int64",
         "type": "integer"
        },
        {
         "name": "park_name",
         "rawType": "object",
         "type": "string"
        },
        {
         "name": "observations",
         "rawType": "int64",
         "type": "integer"
        }
       ],
       "ref": "54e669fa-c519-4e17-ae93-c5b8067c0400",
       "rows": [
        [
         "0",
         "Bryce National Park",
         "3433"
        ],
        [
         "1",
         "Great Smoky Mountains National Park",
         "2411"
        ],
        [
         "2",
         "Yellowstone National Park",
         "8362"
        ],
        [
         "3",
         "Yosemite National Park",
         "4786"
        ]
       ],
       "shape": {
        "columns": 2,
        "rows": 4
       }
      },
      "text/html": [
       "<div>\n",
       "<style scoped>\n",
       "    .dataframe tbody tr th:only-of-type {\n",
       "        vertical-align: middle;\n",
       "    }\n",
       "\n",
       "    .dataframe tbody tr th {\n",
       "        vertical-align: top;\n",
       "    }\n",
       "\n",
       "    .dataframe thead th {\n",
       "        text-align: right;\n",
       "    }\n",
       "</style>\n",
       "<table border=\"1\" class=\"dataframe\">\n",
       "  <thead>\n",
       "    <tr style=\"text-align: right;\">\n",
       "      <th></th>\n",
       "      <th>park_name</th>\n",
       "      <th>observations</th>\n",
       "    </tr>\n",
       "  </thead>\n",
       "  <tbody>\n",
       "    <tr>\n",
       "      <th>0</th>\n",
       "      <td>Bryce National Park</td>\n",
       "      <td>3433</td>\n",
       "    </tr>\n",
       "    <tr>\n",
       "      <th>1</th>\n",
       "      <td>Great Smoky Mountains National Park</td>\n",
       "      <td>2411</td>\n",
       "    </tr>\n",
       "    <tr>\n",
       "      <th>2</th>\n",
       "      <td>Yellowstone National Park</td>\n",
       "      <td>8362</td>\n",
       "    </tr>\n",
       "    <tr>\n",
       "      <th>3</th>\n",
       "      <td>Yosemite National Park</td>\n",
       "      <td>4786</td>\n",
       "    </tr>\n",
       "  </tbody>\n",
       "</table>\n",
       "</div>"
      ],
      "text/plain": [
       "                             park_name  observations\n",
       "0                  Bryce National Park          3433\n",
       "1  Great Smoky Mountains National Park          2411\n",
       "2            Yellowstone National Park          8362\n",
       "3               Yosemite National Park          4786"
      ]
     },
     "execution_count": 57,
     "metadata": {},
     "output_type": "execute_result"
    }
   ],
   "source": [
    "bats_in_parks.groupby('park_name').observations.sum().reset_index()"
   ]
  },
  {
   "cell_type": "markdown",
   "metadata": {},
   "source": [
    "Now lets look at protected vs non-protected bats across parks. We can see that in all parks except for Great Smoky Mountains National Park that there are highger sightings of protected bats that not. This could be a great indicator of bats recouperating in these areas!"
   ]
  },
  {
   "cell_type": "code",
   "execution_count": 62,
   "metadata": {},
   "outputs": [
    {
     "data": {
      "application/vnd.microsoft.datawrangler.viewer.v0+json": {
       "columns": [
        {
         "name": "index",
         "rawType": "int64",
         "type": "integer"
        },
        {
         "name": "park_name",
         "rawType": "object",
         "type": "string"
        },
        {
         "name": "is_protected",
         "rawType": "bool",
         "type": "boolean"
        },
        {
         "name": "observations",
         "rawType": "int64",
         "type": "integer"
        }
       ],
       "ref": "a7aa3274-ea5e-4430-8379-96f0f83b5771",
       "rows": [
        [
         "0",
         "Bryce National Park",
         "False",
         "1596"
        ],
        [
         "1",
         "Bryce National Park",
         "True",
         "1837"
        ],
        [
         "2",
         "Great Smoky Mountains National Park",
         "False",
         "1299"
        ],
        [
         "3",
         "Great Smoky Mountains National Park",
         "True",
         "1112"
        ],
        [
         "4",
         "Yellowstone National Park",
         "False",
         "4044"
        ],
        [
         "5",
         "Yellowstone National Park",
         "True",
         "4318"
        ],
        [
         "6",
         "Yosemite National Park",
         "False",
         "2345"
        ],
        [
         "7",
         "Yosemite National Park",
         "True",
         "2441"
        ]
       ],
       "shape": {
        "columns": 3,
        "rows": 8
       }
      },
      "text/html": [
       "<div>\n",
       "<style scoped>\n",
       "    .dataframe tbody tr th:only-of-type {\n",
       "        vertical-align: middle;\n",
       "    }\n",
       "\n",
       "    .dataframe tbody tr th {\n",
       "        vertical-align: top;\n",
       "    }\n",
       "\n",
       "    .dataframe thead th {\n",
       "        text-align: right;\n",
       "    }\n",
       "</style>\n",
       "<table border=\"1\" class=\"dataframe\">\n",
       "  <thead>\n",
       "    <tr style=\"text-align: right;\">\n",
       "      <th></th>\n",
       "      <th>park_name</th>\n",
       "      <th>is_protected</th>\n",
       "      <th>observations</th>\n",
       "    </tr>\n",
       "  </thead>\n",
       "  <tbody>\n",
       "    <tr>\n",
       "      <th>0</th>\n",
       "      <td>Bryce National Park</td>\n",
       "      <td>False</td>\n",
       "      <td>1596</td>\n",
       "    </tr>\n",
       "    <tr>\n",
       "      <th>1</th>\n",
       "      <td>Bryce National Park</td>\n",
       "      <td>True</td>\n",
       "      <td>1837</td>\n",
       "    </tr>\n",
       "    <tr>\n",
       "      <th>2</th>\n",
       "      <td>Great Smoky Mountains National Park</td>\n",
       "      <td>False</td>\n",
       "      <td>1299</td>\n",
       "    </tr>\n",
       "    <tr>\n",
       "      <th>3</th>\n",
       "      <td>Great Smoky Mountains National Park</td>\n",
       "      <td>True</td>\n",
       "      <td>1112</td>\n",
       "    </tr>\n",
       "    <tr>\n",
       "      <th>4</th>\n",
       "      <td>Yellowstone National Park</td>\n",
       "      <td>False</td>\n",
       "      <td>4044</td>\n",
       "    </tr>\n",
       "    <tr>\n",
       "      <th>5</th>\n",
       "      <td>Yellowstone National Park</td>\n",
       "      <td>True</td>\n",
       "      <td>4318</td>\n",
       "    </tr>\n",
       "    <tr>\n",
       "      <th>6</th>\n",
       "      <td>Yosemite National Park</td>\n",
       "      <td>False</td>\n",
       "      <td>2345</td>\n",
       "    </tr>\n",
       "    <tr>\n",
       "      <th>7</th>\n",
       "      <td>Yosemite National Park</td>\n",
       "      <td>True</td>\n",
       "      <td>2441</td>\n",
       "    </tr>\n",
       "  </tbody>\n",
       "</table>\n",
       "</div>"
      ],
      "text/plain": [
       "                             park_name  is_protected  observations\n",
       "0                  Bryce National Park         False          1596\n",
       "1                  Bryce National Park          True          1837\n",
       "2  Great Smoky Mountains National Park         False          1299\n",
       "3  Great Smoky Mountains National Park          True          1112\n",
       "4            Yellowstone National Park         False          4044\n",
       "5            Yellowstone National Park          True          4318\n",
       "6               Yosemite National Park         False          2345\n",
       "7               Yosemite National Park          True          2441"
      ]
     },
     "execution_count": 62,
     "metadata": {},
     "output_type": "execute_result"
    }
   ],
   "source": [
    "obs_by_park = bats_in_parks.groupby(['park_name','is_protected']).observations.sum().reset_index()\n",
    "obs_by_park"
   ]
  },
  {
   "cell_type": "markdown",
   "metadata": {},
   "source": [
    "Below is a graph of the latest data manipluation to help more easily visualise the realationship between protected and non-protected bats in the parks."
   ]
  },
  {
   "cell_type": "code",
   "execution_count": 63,
   "metadata": {},
   "outputs": [
    {
     "data": {
      "image/png": "[encoded data removed]",
      "text/plain": [
       "<Figure size 1600x400 with 1 Axes>"
      ]
     },
     "metadata": {},
     "output_type": "display_data"
    }
   ],
   "source": [
    "plt.figure(figsize=(16, 4))\n",
    "sns.barplot(x=obs_by_park.park_name, y= obs_by_park.observations, hue=obs_by_park.is_protected)\n",
    "plt.xlabel('National Parks')\n",
    "plt.ylabel('Number of Observations')\n",
    "plt.title('Observations of Bats per Week')\n",
    "plt.show()"
   ]
  },
  {
   "cell_type": "markdown",
   "metadata": {},
   "source": [
    "## Conclusions\n",
    "\n",
    "The project was able to make several data visualizations and inferences about the various species in four of the National Parks that comprised this data set.\n",
    "\n",
    "This project was also able to answer some of the questions first posed in the beginning:\n",
    "\n",
    "- What is the distribution of conservation status for species?\n",
    "    - The vast majority of species were not part of conservation.(5,633 vs 191)\n",
    "- Are certain types of species more likely to be endangered?\n",
    "    - Mammals and Birds had the highest percentage of being in protection.\n",
    "- Are the differences between species and their conservation status significant?\n",
    "    - While mammals and Birds did not have significant difference in conservation percentage, mammals and reptiles exhibited a statistically significant difference.\n",
    "- Which animal is most prevalent and what is their distribution amongst parks?\n",
    "    - the study found that bats occurred the most number of times and they were most likely to be found in Yellowstone National Park."
   ]
  }
 ],
 "metadata": {
  "kernelspec": {
   "display_name": "Basic_Data_ML",
   "language": "python",
   "name": "python3"
  },
  "language_info": {
   "codemirror_mode": {
    "name": "ipython",
    "version": 3
   },
   "file_extension": ".py",
   "mimetype": "text/x-python",
   "name": "python",
   "nbconvert_exporter": "python",
   "pygments_lexer": "ipython3",
   "version": "3.12.11"
  }
 },
 "nbformat": 4,
 "nbformat_minor": 4
}
